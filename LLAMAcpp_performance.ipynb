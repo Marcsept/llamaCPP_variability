{
  "cells": [
    {
      "cell_type": "markdown",
      "metadata": {
        "id": "Kcz6lQR-KNJW"
      },
      "source": [
        "# Run test options LLAMA.cpp"
      ]
    },
    {
      "cell_type": "markdown",
      "metadata": {
        "id": "U_sQfLC1KVCg"
      },
      "source": [
        "## Import / preparation"
      ]
    },
    {
      "cell_type": "markdown",
      "metadata": {
        "id": "vrkS-b8_7Esb"
      },
      "source": [
        "### Import"
      ]
    },
    {
      "cell_type": "code",
      "execution_count": 1,
      "metadata": {
        "id": "yi2GmnaY7E8j"
      },
      "outputs": [],
      "source": [
        "import pandas as pd\n",
        "import os\n",
        "import warnings\n",
        "import numpy as np\n",
        "from tqdm import tqdm\n",
        "import shutil"
      ]
    },
    {
      "cell_type": "markdown",
      "metadata": {
        "id": "L74-CF-ZM0t4"
      },
      "source": [
        "### git clone"
      ]
    },
    {
      "cell_type": "code",
      "execution_count": 2,
      "metadata": {
        "colab": {
          "base_uri": "https://localhost:8080/"
        },
        "id": "-J-iWpsB7G3X",
        "outputId": "00a0a82f-a99c-4f2b-fc36-c01b2379ec42"
      },
      "outputs": [
        {
          "output_type": "stream",
          "name": "stdout",
          "text": [
            "Cloning into 'LLAMAcpp-performance'...\n",
            "remote: Enumerating objects: 271, done.\u001b[K\n",
            "remote: Counting objects: 100% (271/271), done.\u001b[K\n",
            "remote: Compressing objects: 100% (183/183), done.\u001b[K\n",
            "remote: Total 271 (delta 150), reused 194 (delta 75), pack-reused 0 (from 0)\u001b[K\n",
            "Receiving objects: 100% (271/271), 3.47 MiB | 6.24 MiB/s, done.\n",
            "Resolving deltas: 100% (150/150), done.\n"
          ]
        }
      ],
      "source": [
        "!git clone https://github.com/Marcsept/LLAMAcpp-performance.git"
      ]
    },
    {
      "cell_type": "code",
      "execution_count": 3,
      "metadata": {
        "colab": {
          "base_uri": "https://localhost:8080/"
        },
        "id": "ckSwBx9_7Npl",
        "outputId": "7a3c8ed4-cd47-4b92-d9bb-a63b8148d75f"
      },
      "outputs": [
        {
          "output_type": "stream",
          "name": "stdout",
          "text": [
            "Cloning into 'llama.cpp'...\n",
            "remote: Enumerating objects: 18335, done.\u001b[K\n",
            "remote: Counting objects: 100% (2893/2893), done.\u001b[K\n",
            "remote: Compressing objects: 100% (107/107), done.\u001b[K\n",
            "remote: Total 18335 (delta 2842), reused 2786 (delta 2786), pack-reused 15442 (from 1)\u001b[K\n",
            "Receiving objects: 100% (18335/18335), 38.01 MiB | 5.23 MiB/s, done.\n",
            "Resolving deltas: 100% (13139/13139), done.\n"
          ]
        }
      ],
      "source": [
        "!git clone https://github.com/Marcsept/llama.cpp.git"
      ]
    },
    {
      "cell_type": "markdown",
      "metadata": {
        "id": "pHRVo9myPl-K"
      },
      "source": [
        "### Chmod"
      ]
    },
    {
      "cell_type": "code",
      "execution_count": 4,
      "metadata": {
        "id": "KQNFwITgPmsd"
      },
      "outputs": [],
      "source": [
        "!chmod -R +x LLAMAcpp-performance"
      ]
    },
    {
      "cell_type": "markdown",
      "metadata": {
        "id": "d8xVvh_jMkWT"
      },
      "source": [
        "### Download models (gpt2, mistral7B and llama2)"
      ]
    },
    {
      "cell_type": "code",
      "execution_count": 5,
      "metadata": {
        "colab": {
          "base_uri": "https://localhost:8080/"
        },
        "id": "jZV-444jKc8P",
        "outputId": "596be035-83cf-4ad3-b009-240a80f3daf4"
      },
      "outputs": [
        {
          "output_type": "stream",
          "name": "stdout",
          "text": [
            "Téléchargement terminé : gpt2.gguf\n"
          ]
        },
        {
          "output_type": "stream",
          "name": "stderr",
          "text": [
            "  % Total    % Received % Xferd  Average Speed   Time    Time     Time  Current\n",
            "                                 Dload  Upload   Total   Spent    Left  Speed\n",
            "\r  0     0    0     0    0     0      0      0 --:--:-- --:--:-- --:--:--     0\r100  1128  100  1128    0     0   3818      0 --:--:-- --:--:-- --:--:--  3836\n",
            "\r  0     0    0     0    0     0      0      0 --:--:-- --:--:-- --:--:--     0\r 11  236M   11 27.6M    0     0  15.2M      0  0:00:15  0:00:01  0:00:14 28.5M\r 27  236M   27 66.0M    0     0  23.3M      0  0:00:10  0:00:02  0:00:08 33.4M\r 38  236M   38 91.0M    0     0  23.3M      0  0:00:10  0:00:03  0:00:07 29.8M\r 51  236M   51  121M    0     0  24.7M      0  0:00:09  0:00:04  0:00:05 29.9M\r 60  236M   60  142M    0     0  24.4M      0  0:00:09  0:00:05  0:00:04 28.5M\r 71  236M   71  167M    0     0  24.6M      0  0:00:09  0:00:06  0:00:03 28.0M\r 84  236M   84  199M    0     0  25.0M      0  0:00:09  0:00:07  0:00:02 25.8M\r 96  236M   96  228M    0     0  25.1M      0  0:00:09  0:00:09 --:--:-- 26.5M\r100  236M  100  236M    0     0  24.3M      0  0:00:09  0:00:09 --:--:-- 23.8M\n"
          ]
        }
      ],
      "source": [
        "%%bash\n",
        "cd LLAMAcpp-performance/models\n",
        "./gpt2.sh\n"
      ]
    },
    {
      "cell_type": "code",
      "execution_count": 6,
      "metadata": {
        "colab": {
          "base_uri": "https://localhost:8080/"
        },
        "id": "u5YWSuoQP9Vv",
        "outputId": "4f53312a-796f-4592-c30d-eacb2a7d5900"
      },
      "outputs": [
        {
          "output_type": "stream",
          "name": "stdout",
          "text": [
            "Téléchargement terminé : llama2.gguf\n"
          ]
        },
        {
          "output_type": "stream",
          "name": "stderr",
          "text": [
            "  % Total    % Received % Xferd  Average Speed   Time    Time     Time  Current\n",
            "                                 Dload  Upload   Total   Spent    Left  Speed\n",
            "\r  0     0    0     0    0     0      0      0 --:--:-- --:--:-- --:--:--     0\r  0     0    0     0    0     0      0      0 --:--:-- --:--:-- --:--:--     0\r100  1121  100  1121    0     0   5364      0 --:--:-- --:--:-- --:--:--  5363\n",
            "\r  0 2811M    0 14.8M    0     0  10.4M      0  0:04:28  0:00:01  0:04:27 10.4M\r  1 2811M    1 45.7M    0     0  21.4M      0  0:02:11  0:00:02  0:02:09 43.0M\r  2 2811M    2 76.3M    0     0  24.7M      0  0:01:53  0:00:03  0:01:50 36.9M\r  4 2811M    4  121M    0     0  29.2M      0  0:01:36  0:00:04  0:01:32 38.8M\r  5 2811M    5  142M    0     0  28.0M      0  0:01:40  0:00:05  0:01:35 34.8M\r  6 2811M    6  183M    0     0  29.2M      0  0:01:35  0:00:06  0:01:29 34.8M\r  7 2811M    7  213M    0     0  30.2M      0  0:01:32  0:00:07  0:01:25 34.0M\r  8 2811M    8  244M    0     0  29.8M      0  0:01:34  0:00:08  0:01:26 32.9M\r  9 2811M    9  274M    0     0  29.9M      0  0:01:33  0:00:09  0:01:24 30.6M\r 10 2811M   10  304M    0     0  30.1M      0  0:01:33  0:00:10  0:01:23 32.3M\r 12 2811M   12  350M    0     0  31.6M      0  0:01:28  0:00:11  0:01:17 34.7M\r 13 2811M   13  385M    0     0  31.9M      0  0:01:27  0:00:12  0:01:15 34.4M\r 15 2811M   15  422M    0     0  32.3M      0  0:01:27  0:00:13  0:01:14 36.3M\r 16 2811M   16  452M    0     0  32.0M      0  0:01:27  0:00:14  0:01:13 35.9M\r 16 2811M   16  472M    0     0  30.9M      0  0:01:30  0:00:15  0:01:15 32.4M\r 17 2811M   17  497M    0     0  30.6M      0  0:01:31  0:00:16  0:01:15 28.4M\r 18 2811M   18  528M    0     0  30.9M      0  0:01:30  0:00:17  0:01:13 28.5M\r 20 2811M   20  564M    0     0  31.2M      0  0:01:30  0:00:18  0:01:12 28.3M\r 21 2811M   21  611M    0     0  32.0M      0  0:01:27  0:00:19  0:01:08 32.0M\r 22 2811M   22  640M    0     0  31.7M      0  0:01:28  0:00:20  0:01:08 34.3M\r 23 2811M   23  671M    0     0  31.9M      0  0:01:28  0:00:21  0:01:07 36.0M\r 25 2811M   25  703M    0     0  31.8M      0  0:01:28  0:00:22  0:01:06 35.0M\r 26 2811M   26  737M    0     0  31.9M      0  0:01:27  0:00:23  0:01:04 34.9M\r 27 2811M   27  778M    0     0  32.1M      0  0:01:27  0:00:24  0:01:03 32.5M\r 29 2811M   29  823M    0     0  32.7M      0  0:01:25  0:00:25  0:01:00 36.7M\r 30 2811M   30  849M    0     0  32.5M      0  0:01:26  0:00:26  0:01:00 35.4M\r 31 2811M   31  889M    0     0  32.8M      0  0:01:25  0:00:27  0:00:58 37.2M\r 33 2811M   33  946M    0     0  33.6M      0  0:01:23  0:00:28  0:00:55 41.4M\r 35 2811M   35  991M    0     0  33.8M      0  0:01:23  0:00:29  0:00:54 41.7M\r 36 2811M   36 1022M    0     0  33.8M      0  0:01:22  0:00:30  0:00:52 39.4M\r 37 2811M   37 1056M    0     0  33.9M      0  0:01:22  0:00:31  0:00:51 41.3M\r 38 2811M   38 1082M    0     0  33.6M      0  0:01:23  0:00:32  0:00:51 37.9M\r 39 2811M   39 1108M    0     0  33.4M      0  0:01:23  0:00:33  0:00:50 32.3M\r 41 2811M   41 1159M    0     0  34.0M      0  0:01:22  0:00:34  0:00:48 35.0M\r 42 2811M   42 1189M    0     0  33.8M      0  0:01:23  0:00:35  0:00:48 33.7M\r 43 2811M   43 1230M    0     0  34.1M      0  0:01:22  0:00:36  0:00:46 34.9M\r 45 2811M   45 1266M    0     0  34.1M      0  0:01:22  0:00:37  0:00:45 37.1M\r 46 2811M   46 1297M    0     0  33.9M      0  0:01:22  0:00:38  0:00:44 37.0M\r 47 2811M   47 1325M    0     0  33.9M      0  0:01:22  0:00:39  0:00:43 33.2M\r 47 2811M   47 1342M    0     0  33.4M      0  0:01:24  0:00:40  0:00:44 30.3M\r 48 2811M   48 1372M    0     0  33.3M      0  0:01:24  0:00:41  0:00:43 27.5M\r 50 2811M   50 1413M    0     0  33.6M      0  0:01:23  0:00:42  0:00:41 29.5M\r 51 2811M   51 1456M    0     0  33.8M      0  0:01:23  0:00:43  0:00:40 32.7M\r 52 2811M   52 1480M    0     0  33.5M      0  0:01:23  0:00:44  0:00:39 30.4M\r 53 2811M   53 1512M    0     0  33.5M      0  0:01:23  0:00:45  0:00:38 34.7M\r 55 2811M   55 1556M    0     0  33.7M      0  0:01:23  0:00:46  0:00:37 37.6M\r 56 2811M   56 1586M    0     0  33.7M      0  0:01:23  0:00:47  0:00:36 34.5M\r 58 2811M   58 1634M    0     0  33.9M      0  0:01:22  0:00:48  0:00:34 35.2M\r 59 2811M   59 1677M    0     0  34.1M      0  0:01:22  0:00:49  0:00:33 40.0M\r 60 2811M   60 1709M    0     0  34.0M      0  0:01:22  0:00:50  0:00:32 38.2M\r 61 2811M   61 1739M    0     0  33.9M      0  0:01:22  0:00:51  0:00:31 36.0M\r 63 2811M   63 1781M    0     0  34.2M      0  0:01:22  0:00:52  0:00:30 39.0M\r 64 2811M   64 1815M    0     0  34.1M      0  0:01:22  0:00:53  0:00:29 36.1M\r 66 2811M   66 1865M    0     0  34.4M      0  0:01:21  0:00:54  0:00:27 37.9M\r 67 2811M   67 1907M    0     0  34.5M      0  0:01:21  0:00:55  0:00:26 39.7M\r 68 2811M   68 1937M    0     0  34.5M      0  0:01:21  0:00:56  0:00:25 40.4M\r 69 2811M   69 1963M    0     0  34.3M      0  0:01:21  0:00:57  0:00:24 36.2M\r 70 2811M   70 1993M    0     0  34.3M      0  0:01:21  0:00:58  0:00:23 35.8M\r 72 2811M   72 2029M    0     0  34.3M      0  0:01:21  0:00:59  0:00:22 32.7M\r 73 2811M   73 2075M    0     0  34.5M      0  0:01:21  0:01:00  0:00:21 34.3M\r 75 2811M   75 2120M    0     0  34.6M      0  0:01:21  0:01:01  0:00:20 36.0M\r 76 2811M   76 2141M    0     0  34.5M      0  0:01:21  0:01:02  0:00:19 35.6M\r 77 2811M   77 2182M    0     0  34.5M      0  0:01:21  0:01:03  0:00:18 37.3M\r 78 2811M   78 2212M    0     0  34.5M      0  0:01:21  0:01:04  0:00:17 36.5M\r 79 2811M   79 2243M    0     0  34.4M      0  0:01:21  0:01:05  0:00:16 33.1M\r 80 2811M   80 2273M    0     0  34.3M      0  0:01:21  0:01:06  0:00:15 30.9M\r 82 2811M   82 2325M    0     0  34.6M      0  0:01:21  0:01:07  0:00:14 36.9M\r 83 2811M   83 2358M    0     0  34.6M      0  0:01:21  0:01:08  0:00:13 35.2M\r 85 2811M   85 2395M    0     0  34.6M      0  0:01:21  0:01:09  0:00:12 35.7M\r 86 2811M   86 2439M    0     0  34.8M      0  0:01:20  0:01:10  0:00:10 39.7M\r 87 2811M   87 2471M    0     0  34.6M      0  0:01:21  0:01:11  0:00:10 37.8M\r 88 2811M   88 2500M    0     0  34.5M      0  0:01:21  0:01:12  0:00:09 32.4M\r 89 2811M   89 2517M    0     0  34.4M      0  0:01:21  0:01:13  0:00:08 32.0M\r 91 2811M   91 2561M    0     0  34.5M      0  0:01:21  0:01:14  0:00:07 34.2M\r 92 2811M   92 2601M    0     0  34.6M      0  0:01:21  0:01:15  0:00:06 32.4M\r 93 2811M   93 2634M    0     0  34.6M      0  0:01:21  0:01:16  0:00:05 34.2M\r 94 2811M   94 2670M    0     0  34.5M      0  0:01:21  0:01:17  0:00:04 35.8M\r 96 2811M   96 2714M    0     0  34.7M      0  0:01:20  0:01:18  0:00:02 38.6M\r 97 2811M   97 2746M    0     0  34.7M      0  0:01:20  0:01:19  0:00:01 36.8M\r 98 2811M   98 2777M    0     0  34.6M      0  0:01:21  0:01:20  0:00:01 34.3M\r 99 2811M   99 2801M    0     0  34.4M      0  0:01:21  0:01:21 --:--:-- 31.4M\r100 2811M  100 2811M    0     0  34.3M      0  0:01:21  0:01:21 --:--:-- 29.6M\n"
          ]
        }
      ],
      "source": [
        "%%bash\n",
        "cd LLAMAcpp-performance/models\n",
        "./llama2.sh"
      ]
    },
    {
      "cell_type": "code",
      "execution_count": 7,
      "metadata": {
        "colab": {
          "base_uri": "https://localhost:8080/"
        },
        "id": "gKhAIiooQBQt",
        "outputId": "1c41f8d6-1b9d-41d3-fef9-099be1213961"
      },
      "outputs": [
        {
          "output_type": "stream",
          "name": "stdout",
          "text": [
            "Téléchargement terminé : mistral7B.gguf\n"
          ]
        },
        {
          "output_type": "stream",
          "name": "stderr",
          "text": [
            "  % Total    % Received % Xferd  Average Speed   Time    Time     Time  Current\n",
            "                                 Dload  Upload   Total   Spent    Left  Speed\n",
            "\r  0     0    0     0    0     0      0      0 --:--:-- --:--:-- --:--:--     0\r  0     0    0     0    0     0      0      0 --:--:-- --:--:-- --:--:--     0\r100  1133  100  1133    0     0   5432      0 --:--:-- --:--:-- --:--:--  5421\n",
            "\r  0 2940M    0 15.2M    0     0  13.7M      0  0:03:34  0:00:01  0:03:33 13.7M\r  1 2940M    1 45.9M    0     0  21.3M      0  0:02:17  0:00:02  0:02:15 29.4M\r  2 2940M    2 82.5M    0     0  26.8M      0  0:01:49  0:00:03  0:01:46 34.3M\r  3 2940M    3  116M    0     0  28.6M      0  0:01:42  0:00:04  0:01:38 34.2M\r  4 2940M    4  137M    0     0  26.9M      0  0:01:49  0:00:05  0:01:44 30.6M\r  6 2940M    6  182M    0     0  28.9M      0  0:01:41  0:00:06  0:01:35 32.1M\r  7 2940M    7  211M    0     0  29.7M      0  0:01:38  0:00:07  0:01:31 33.4M\r  8 2940M    8  258M    0     0  30.8M      0  0:01:35  0:00:08  0:01:27 33.2M\r  9 2940M    9  274M    0     0  29.8M      0  0:01:38  0:00:09  0:01:29 30.7M\r 10 2940M   10  305M    0     0  30.2M      0  0:01:37  0:00:10  0:01:27 33.6M\r 11 2940M   11  335M    0     0  30.2M      0  0:01:37  0:00:11  0:01:26 31.9M\r 12 2940M   12  371M    0     0  30.6M      0  0:01:35  0:00:12  0:01:23 31.8M\r 13 2940M   13  411M    0     0  31.3M      0  0:01:33  0:00:13  0:01:20 32.2M\r 15 2940M   15  442M    0     0  31.2M      0  0:01:33  0:00:14  0:01:19 33.9M\r 16 2940M   16  473M    0     0  31.2M      0  0:01:34  0:00:15  0:01:19 33.2M\r 17 2940M   17  513M    0     0  31.9M      0  0:01:32  0:00:16  0:01:16 35.6M\r 18 2940M   18  534M    0     0  31.0M      0  0:01:34  0:00:17  0:01:17 32.1M\r 19 2940M   19  564M    0     0  31.1M      0  0:01:34  0:00:18  0:01:16 30.6M\r 20 2940M   20  591M    0     0  30.9M      0  0:01:34  0:00:19  0:01:15 30.1M\r 21 2940M   21  640M    0     0  31.7M      0  0:01:32  0:00:20  0:01:12 33.1M\r 22 2940M   22  663M    0     0  31.4M      0  0:01:33  0:00:21  0:01:12 30.0M\r 23 2940M   23  695M    0     0  31.5M      0  0:01:33  0:00:22  0:01:11 33.0M\r 25 2940M   25  742M    0     0  32.1M      0  0:01:31  0:00:23  0:01:08 35.7M\r 25 2940M   25  762M    0     0  30.9M      0  0:01:35  0:00:24  0:01:11 30.7M\r 26 2940M   26  777M    0     0  30.7M      0  0:01:35  0:00:25  0:01:10 26.9M\r 27 2940M   27  808M    0     0  30.9M      0  0:01:34  0:00:26  0:01:08 28.8M\r 28 2940M   28  833M    0     0  30.7M      0  0:01:35  0:00:27  0:01:08 27.4M\r 29 2940M   29  869M    0     0  30.9M      0  0:01:35  0:00:28  0:01:07 25.3M\r 30 2940M   30  899M    0     0  30.9M      0  0:01:35  0:00:29  0:01:06 30.9M\r 31 2940M   31  936M    0     0  31.1M      0  0:01:34  0:00:30  0:01:04 32.7M\r 33 2940M   33  976M    0     0  31.3M      0  0:01:33  0:00:31  0:01:02 33.2M\r 35 2940M   35 1035M    0     0  32.2M      0  0:01:31  0:00:32  0:00:59 40.5M\r 36 2940M   36 1060M    0     0  32.0M      0  0:01:31  0:00:33  0:00:58 38.3M\r 37 2940M   37 1103M    0     0  32.3M      0  0:01:30  0:00:34  0:00:56 40.5M\r 38 2940M   38 1134M    0     0  32.3M      0  0:01:30  0:00:35  0:00:55 39.7M\r 39 2940M   39 1159M    0     0  32.0M      0  0:01:31  0:00:36  0:00:55 36.2M\r 40 2940M   40 1189M    0     0  32.0M      0  0:01:31  0:00:37  0:00:54 30.4M\r 41 2940M   41 1205M    0     0  31.5M      0  0:01:33  0:00:38  0:00:55 28.3M\r 42 2940M   42 1251M    0     0  31.8M      0  0:01:32  0:00:39  0:00:53 28.4M\r 43 2940M   43 1281M    0     0  31.8M      0  0:01:32  0:00:40  0:00:52 28.9M\r 44 2940M   44 1307M    0     0  31.8M      0  0:01:32  0:00:41  0:00:51 30.2M\r 45 2940M   45 1337M    0     0  31.7M      0  0:01:32  0:00:42  0:00:50 29.7M\r 47 2940M   47 1382M    0     0  32.0M      0  0:01:31  0:00:43  0:00:48 36.2M\r 48 2940M   48 1429M    0     0  32.4M      0  0:01:30  0:00:44  0:00:46 37.0M\r 49 2940M   49 1464M    0     0  32.4M      0  0:01:30  0:00:45  0:00:45 37.3M\r 51 2940M   51 1510M    0     0  32.6M      0  0:01:30  0:00:46  0:00:44 39.2M\r 52 2940M   52 1541M    0     0  32.6M      0  0:01:29  0:00:47  0:00:42 40.2M\r 53 2940M   53 1571M    0     0  32.6M      0  0:01:30  0:00:48  0:00:42 37.4M\r 54 2940M   54 1616M    0     0  32.8M      0  0:01:29  0:00:49  0:00:40 36.2M\r 55 2940M   55 1642M    0     0  32.7M      0  0:01:29  0:00:50  0:00:39 35.5M\r 57 2940M   57 1678M    0     0  32.8M      0  0:01:29  0:00:51  0:00:38 34.9M\r 58 2940M   58 1723M    0     0  33.1M      0  0:01:28  0:00:52  0:00:36 37.1M\r 59 2940M   59 1755M    0     0  33.0M      0  0:01:29  0:00:53  0:00:36 36.4M\r 61 2940M   61 1800M    0     0  33.2M      0  0:01:28  0:00:54  0:00:34 38.1M\r 62 2940M   62 1831M    0     0  33.1M      0  0:01:28  0:00:55  0:00:33 36.4M\r 63 2940M   63 1861M    0     0  33.1M      0  0:01:28  0:00:56  0:00:32 36.1M\r 64 2940M   64 1905M    0     0  33.2M      0  0:01:28  0:00:57  0:00:31 35.0M\r 65 2940M   65 1936M    0     0  33.2M      0  0:01:28  0:00:58  0:00:30 35.8M\r 66 2940M   66 1969M    0     0  33.3M      0  0:01:28  0:00:59  0:00:29 33.8M\r 68 2940M   68 2014M    0     0  33.5M      0  0:01:27  0:01:00  0:00:27 38.0M\r 69 2940M   69 2055M    0     0  33.6M      0  0:01:27  0:01:01  0:00:26 38.9M\r 70 2940M   70 2085M    0     0  33.5M      0  0:01:27  0:01:02  0:00:25 36.9M\r 71 2940M   71 2105M    0     0  33.1M      0  0:01:28  0:01:03  0:00:25 32.5M\r 72 2940M   72 2126M    0     0  33.1M      0  0:01:28  0:01:04  0:00:24 31.1M\r 73 2940M   73 2166M    0     0  33.2M      0  0:01:28  0:01:05  0:00:23 30.4M\r 75 2940M   75 2222M    0     0  33.6M      0  0:01:27  0:01:06  0:00:21 33.6M\r 76 2940M   76 2246M    0     0  33.4M      0  0:01:27  0:01:07  0:00:20 32.5M\r 77 2940M   77 2288M    0     0  33.6M      0  0:01:27  0:01:08  0:00:19 39.3M\r 78 2940M   78 2319M    0     0  33.5M      0  0:01:27  0:01:09  0:00:18 37.9M\r 80 2940M   80 2353M    0     0  33.5M      0  0:01:27  0:01:10  0:00:17 37.4M\r 81 2940M   81 2400M    0     0  33.7M      0  0:01:27  0:01:11  0:00:16 35.5M\r 83 2940M   83 2441M    0     0  33.8M      0  0:01:26  0:01:12  0:00:14 38.8M\r 84 2940M   84 2476M    0     0  33.8M      0  0:01:26  0:01:13  0:00:13 37.5M\r 85 2940M   85 2527M    0     0  34.1M      0  0:01:26  0:01:14  0:00:12 42.6M\r 87 2940M   87 2563M    0     0  34.1M      0  0:01:26  0:01:15  0:00:11 41.8M\r 88 2940M   88 2609M    0     0  34.2M      0  0:01:25  0:01:16  0:00:09 41.7M\r 89 2940M   89 2639M    0     0  34.2M      0  0:01:25  0:01:17  0:00:08 39.3M\r 91 2940M   91 2680M    0     0  34.3M      0  0:01:25  0:01:18  0:00:07 40.4M\r 92 2940M   92 2716M    0     0  34.3M      0  0:01:25  0:01:19  0:00:06 37.4M\r 93 2940M   93 2748M    0     0  34.3M      0  0:01:25  0:01:20  0:00:05 37.0M\r 95 2940M   95 2793M    0     0  34.3M      0  0:01:25  0:01:21  0:00:04 35.8M\r 95 2940M   95 2817M    0     0  34.3M      0  0:01:25  0:01:22  0:00:03 35.8M\r 97 2940M   97 2853M    0     0  34.2M      0  0:01:25  0:01:23  0:00:02 33.5M\r 98 2940M   98 2884M    0     0  34.2M      0  0:01:25  0:01:24  0:00:01 32.6M\r 99 2940M   99 2915M    0     0  34.2M      0  0:01:25  0:01:25 --:--:-- 32.6M\r 99 2940M   99 2940M    0     0  34.1M      0  0:01:26  0:01:26 --:--:-- 29.9M\r100 2940M  100 2940M    0     0  34.1M      0  0:01:26  0:01:26 --:--:-- 30.4M\n"
          ]
        }
      ],
      "source": [
        "%%bash\n",
        "cd LLAMAcpp-performance/models\n",
        "./mistral7b.sh"
      ]
    },
    {
      "cell_type": "markdown",
      "metadata": {
        "id": "-AifsG-4QF_l"
      },
      "source": [
        "### Prepare llama.cpp"
      ]
    },
    {
      "cell_type": "code",
      "execution_count": 8,
      "metadata": {
        "colab": {
          "base_uri": "https://localhost:8080/"
        },
        "collapsed": true,
        "id": "WyNgLQWdMhgP",
        "outputId": "0e4d5115-5716-4750-ccbf-7ca0df33b65e"
      },
      "outputs": [
        {
          "output_type": "stream",
          "name": "stdout",
          "text": [
            "I ccache not found. Consider installing it for faster compilation.\n",
            "I llama.cpp build info: \n",
            "I UNAME_S:   Linux\n",
            "I UNAME_P:   x86_64\n",
            "I UNAME_M:   x86_64\n",
            "I CFLAGS:    -I. -Icommon -D_XOPEN_SOURCE=600 -D_GNU_SOURCE -DNDEBUG -DGGML_USE_OPENMP -DGGML_USE_LLAMAFILE  -std=c11   -fPIC -O3 -Wall -Wextra -Wpedantic -Wcast-qual -Wno-unused-function -Wshadow -Wstrict-prototypes -Wpointer-arith -Wmissing-prototypes -Werror=implicit-int -Werror=implicit-function-declaration -pthread -march=native -mtune=native -fopenmp -Wdouble-promotion \n",
            "I CXXFLAGS:  -std=c++11 -fPIC -O3 -Wall -Wextra -Wpedantic -Wcast-qual -Wno-unused-function -Wmissing-declarations -Wmissing-noreturn -pthread -fopenmp  -march=native -mtune=native -Wno-array-bounds -Wno-format-truncation -Wextra-semi -I. -Icommon -D_XOPEN_SOURCE=600 -D_GNU_SOURCE -DNDEBUG -DGGML_USE_OPENMP -DGGML_USE_LLAMAFILE \n",
            "I NVCCFLAGS: -std=c++11 -O3 \n",
            "I LDFLAGS:    \n",
            "I CC:        cc (Ubuntu 11.4.0-1ubuntu1~22.04) 11.4.0\n",
            "I CXX:       c++ (Ubuntu 11.4.0-1ubuntu1~22.04) 11.4.0\n",
            "\n",
            "cc  -I. -Icommon -D_XOPEN_SOURCE=600 -D_GNU_SOURCE -DNDEBUG -DGGML_USE_OPENMP -DGGML_USE_LLAMAFILE  -std=c11   -fPIC -O3 -Wall -Wextra -Wpedantic -Wcast-qual -Wno-unused-function -Wshadow -Wstrict-prototypes -Wpointer-arith -Wmissing-prototypes -Werror=implicit-int -Werror=implicit-function-declaration -pthread -march=native -mtune=native -fopenmp -Wdouble-promotion    -c ggml.c -o ggml.o\n",
            "c++ -std=c++11 -fPIC -O3 -Wall -Wextra -Wpedantic -Wcast-qual -Wno-unused-function -Wmissing-declarations -Wmissing-noreturn -pthread -fopenmp  -march=native -mtune=native -Wno-array-bounds -Wno-format-truncation -Wextra-semi -I. -Icommon -D_XOPEN_SOURCE=600 -D_GNU_SOURCE -DNDEBUG -DGGML_USE_OPENMP -DGGML_USE_LLAMAFILE  -c llama.cpp -o llama.o\n",
            "c++ -std=c++11 -fPIC -O3 -Wall -Wextra -Wpedantic -Wcast-qual -Wno-unused-function -Wmissing-declarations -Wmissing-noreturn -pthread -fopenmp  -march=native -mtune=native -Wno-array-bounds -Wno-format-truncation -Wextra-semi -I. -Icommon -D_XOPEN_SOURCE=600 -D_GNU_SOURCE -DNDEBUG -DGGML_USE_OPENMP -DGGML_USE_LLAMAFILE  -c common/common.cpp -o common.o\n",
            "c++ -std=c++11 -fPIC -O3 -Wall -Wextra -Wpedantic -Wcast-qual -Wno-unused-function -Wmissing-declarations -Wmissing-noreturn -pthread -fopenmp  -march=native -mtune=native -Wno-array-bounds -Wno-format-truncation -Wextra-semi -I. -Icommon -D_XOPEN_SOURCE=600 -D_GNU_SOURCE -DNDEBUG -DGGML_USE_OPENMP -DGGML_USE_LLAMAFILE  -c common/sampling.cpp -o sampling.o\n",
            "c++ -std=c++11 -fPIC -O3 -Wall -Wextra -Wpedantic -Wcast-qual -Wno-unused-function -Wmissing-declarations -Wmissing-noreturn -pthread -fopenmp  -march=native -mtune=native -Wno-array-bounds -Wno-format-truncation -Wextra-semi -I. -Icommon -D_XOPEN_SOURCE=600 -D_GNU_SOURCE -DNDEBUG -DGGML_USE_OPENMP -DGGML_USE_LLAMAFILE  -c common/grammar-parser.cpp -o grammar-parser.o\n",
            "c++ -std=c++11 -fPIC -O3 -Wall -Wextra -Wpedantic -Wcast-qual -Wno-unused-function -Wmissing-declarations -Wmissing-noreturn -pthread -fopenmp  -march=native -mtune=native -Wno-array-bounds -Wno-format-truncation -Wextra-semi -I. -Icommon -D_XOPEN_SOURCE=600 -D_GNU_SOURCE -DNDEBUG -DGGML_USE_OPENMP -DGGML_USE_LLAMAFILE  -c common/build-info.cpp -o build-info.o\n",
            "c++ -std=c++11 -fPIC -O3 -Wall -Wextra -Wpedantic -Wcast-qual -Wno-unused-function -Wmissing-declarations -Wmissing-noreturn -pthread -fopenmp  -march=native -mtune=native -Wno-array-bounds -Wno-format-truncation -Wextra-semi -I. -Icommon -D_XOPEN_SOURCE=600 -D_GNU_SOURCE -DNDEBUG -DGGML_USE_OPENMP -DGGML_USE_LLAMAFILE  -c common/json-schema-to-grammar.cpp -o json-schema-to-grammar.o\n",
            "c++ -std=c++11 -fPIC -O3 -Wall -Wextra -Wpedantic -Wcast-qual -Wno-unused-function -Wmissing-declarations -Wmissing-noreturn -pthread -fopenmp  -march=native -mtune=native -Wno-array-bounds -Wno-format-truncation -Wextra-semi -I. -Icommon -D_XOPEN_SOURCE=600 -D_GNU_SOURCE -DNDEBUG -DGGML_USE_OPENMP -DGGML_USE_LLAMAFILE  -c common/console.cpp -o console.o\n",
            "c++ -std=c++11 -fPIC -O3 -Wall -Wextra -Wpedantic -Wcast-qual -Wno-unused-function -Wmissing-declarations -Wmissing-noreturn -pthread -fopenmp  -march=native -mtune=native -Wno-array-bounds -Wno-format-truncation -Wextra-semi -I. -Icommon -D_XOPEN_SOURCE=600 -D_GNU_SOURCE -DNDEBUG -DGGML_USE_OPENMP -DGGML_USE_LLAMAFILE  -c sgemm.cpp -o sgemm.o\n",
            "cc  -I. -Icommon -D_XOPEN_SOURCE=600 -D_GNU_SOURCE -DNDEBUG -DGGML_USE_OPENMP -DGGML_USE_LLAMAFILE  -std=c11   -fPIC -O3 -Wall -Wextra -Wpedantic -Wcast-qual -Wno-unused-function -Wshadow -Wstrict-prototypes -Wpointer-arith -Wmissing-prototypes -Werror=implicit-int -Werror=implicit-function-declaration -pthread -march=native -mtune=native -fopenmp -Wdouble-promotion    -c ggml-alloc.c -o ggml-alloc.o\n",
            "cc  -I. -Icommon -D_XOPEN_SOURCE=600 -D_GNU_SOURCE -DNDEBUG -DGGML_USE_OPENMP -DGGML_USE_LLAMAFILE  -std=c11   -fPIC -O3 -Wall -Wextra -Wpedantic -Wcast-qual -Wno-unused-function -Wshadow -Wstrict-prototypes -Wpointer-arith -Wmissing-prototypes -Werror=implicit-int -Werror=implicit-function-declaration -pthread -march=native -mtune=native -fopenmp -Wdouble-promotion    -c ggml-backend.c -o ggml-backend.o\n",
            "cc -I. -Icommon -D_XOPEN_SOURCE=600 -D_GNU_SOURCE -DNDEBUG -DGGML_USE_OPENMP -DGGML_USE_LLAMAFILE  -std=c11   -fPIC -O3 -Wall -Wextra -Wpedantic -Wcast-qual -Wno-unused-function -Wshadow -Wstrict-prototypes -Wpointer-arith -Wmissing-prototypes -Werror=implicit-int -Werror=implicit-function-declaration -pthread -march=native -mtune=native -fopenmp -Wdouble-promotion     -c ggml-quants.c -o ggml-quants.o\n",
            "c++ -std=c++11 -fPIC -O3 -Wall -Wextra -Wpedantic -Wcast-qual -Wno-unused-function -Wmissing-declarations -Wmissing-noreturn -pthread -fopenmp  -march=native -mtune=native -Wno-array-bounds -Wno-format-truncation -Wextra-semi -I. -Icommon -D_XOPEN_SOURCE=600 -D_GNU_SOURCE -DNDEBUG -DGGML_USE_OPENMP -DGGML_USE_LLAMAFILE  -c unicode.cpp -o unicode.o\n",
            "c++ -std=c++11 -fPIC -O3 -Wall -Wextra -Wpedantic -Wcast-qual -Wno-unused-function -Wmissing-declarations -Wmissing-noreturn -pthread -fopenmp  -march=native -mtune=native -Wno-array-bounds -Wno-format-truncation -Wextra-semi -I. -Icommon -D_XOPEN_SOURCE=600 -D_GNU_SOURCE -DNDEBUG -DGGML_USE_OPENMP -DGGML_USE_LLAMAFILE  -c unicode-data.cpp -o unicode-data.o\n",
            "c++ -std=c++11 -fPIC -O3 -Wall -Wextra -Wpedantic -Wcast-qual -Wno-unused-function -Wmissing-declarations -Wmissing-noreturn -pthread -fopenmp  -march=native -mtune=native -Wno-array-bounds -Wno-format-truncation -Wextra-semi -I. -Icommon -D_XOPEN_SOURCE=600 -D_GNU_SOURCE -DNDEBUG -DGGML_USE_OPENMP -DGGML_USE_LLAMAFILE  -c examples/main/main.cpp -o examples/main/main.o\n",
            "c++ -std=c++11 -fPIC -O3 -Wall -Wextra -Wpedantic -Wcast-qual -Wno-unused-function -Wmissing-declarations -Wmissing-noreturn -pthread -fopenmp  -march=native -mtune=native -Wno-array-bounds -Wno-format-truncation -Wextra-semi -I. -Icommon -D_XOPEN_SOURCE=600 -D_GNU_SOURCE -DNDEBUG -DGGML_USE_OPENMP -DGGML_USE_LLAMAFILE  ggml.o llama.o common.o sampling.o grammar-parser.o build-info.o json-schema-to-grammar.o console.o sgemm.o ggml-alloc.o ggml-backend.o ggml-quants.o unicode.o unicode-data.o examples/main/main.o -o main  \n",
            "\n",
            "====  Run ./main -h for help.  ====\n",
            "\n",
            "c++ -std=c++11 -fPIC -O3 -Wall -Wextra -Wpedantic -Wcast-qual -Wno-unused-function -Wmissing-declarations -Wmissing-noreturn -pthread -fopenmp  -march=native -mtune=native -Wno-array-bounds -Wno-format-truncation -Wextra-semi -I. -Icommon -D_XOPEN_SOURCE=600 -D_GNU_SOURCE -DNDEBUG -DGGML_USE_OPENMP -DGGML_USE_LLAMAFILE  -c examples/quantize/quantize.cpp -o examples/quantize/quantize.o\n",
            "c++ -std=c++11 -fPIC -O3 -Wall -Wextra -Wpedantic -Wcast-qual -Wno-unused-function -Wmissing-declarations -Wmissing-noreturn -pthread -fopenmp  -march=native -mtune=native -Wno-array-bounds -Wno-format-truncation -Wextra-semi -I. -Icommon -D_XOPEN_SOURCE=600 -D_GNU_SOURCE -DNDEBUG -DGGML_USE_OPENMP -DGGML_USE_LLAMAFILE  ggml.o llama.o common.o sampling.o grammar-parser.o build-info.o json-schema-to-grammar.o sgemm.o ggml-alloc.o ggml-backend.o ggml-quants.o unicode.o unicode-data.o examples/quantize/quantize.o -o quantize  \n",
            "c++ -std=c++11 -fPIC -O3 -Wall -Wextra -Wpedantic -Wcast-qual -Wno-unused-function -Wmissing-declarations -Wmissing-noreturn -pthread -fopenmp  -march=native -mtune=native -Wno-array-bounds -Wno-format-truncation -Wextra-semi -I. -Icommon -D_XOPEN_SOURCE=600 -D_GNU_SOURCE -DNDEBUG -DGGML_USE_OPENMP -DGGML_USE_LLAMAFILE  -c examples/quantize-stats/quantize-stats.cpp -o examples/quantize-stats/quantize-stats.o\n",
            "c++ -std=c++11 -fPIC -O3 -Wall -Wextra -Wpedantic -Wcast-qual -Wno-unused-function -Wmissing-declarations -Wmissing-noreturn -pthread -fopenmp  -march=native -mtune=native -Wno-array-bounds -Wno-format-truncation -Wextra-semi -I. -Icommon -D_XOPEN_SOURCE=600 -D_GNU_SOURCE -DNDEBUG -DGGML_USE_OPENMP -DGGML_USE_LLAMAFILE  build-info.o ggml.o llama.o sgemm.o ggml-alloc.o ggml-backend.o ggml-quants.o unicode.o unicode-data.o examples/quantize-stats/quantize-stats.o -o quantize-stats  \n",
            "c++ -std=c++11 -fPIC -O3 -Wall -Wextra -Wpedantic -Wcast-qual -Wno-unused-function -Wmissing-declarations -Wmissing-noreturn -pthread -fopenmp  -march=native -mtune=native -Wno-array-bounds -Wno-format-truncation -Wextra-semi -I. -Icommon -D_XOPEN_SOURCE=600 -D_GNU_SOURCE -DNDEBUG -DGGML_USE_OPENMP -DGGML_USE_LLAMAFILE  -c examples/perplexity/perplexity.cpp -o examples/perplexity/perplexity.o\n",
            "c++ -std=c++11 -fPIC -O3 -Wall -Wextra -Wpedantic -Wcast-qual -Wno-unused-function -Wmissing-declarations -Wmissing-noreturn -pthread -fopenmp  -march=native -mtune=native -Wno-array-bounds -Wno-format-truncation -Wextra-semi -I. -Icommon -D_XOPEN_SOURCE=600 -D_GNU_SOURCE -DNDEBUG -DGGML_USE_OPENMP -DGGML_USE_LLAMAFILE  ggml.o llama.o common.o sampling.o grammar-parser.o build-info.o json-schema-to-grammar.o sgemm.o ggml-alloc.o ggml-backend.o ggml-quants.o unicode.o unicode-data.o examples/perplexity/perplexity.o -o perplexity  \n",
            "c++ -std=c++11 -fPIC -O3 -Wall -Wextra -Wpedantic -Wcast-qual -Wno-unused-function -Wmissing-declarations -Wmissing-noreturn -pthread -fopenmp  -march=native -mtune=native -Wno-array-bounds -Wno-format-truncation -Wextra-semi -I. -Icommon -D_XOPEN_SOURCE=600 -D_GNU_SOURCE -DNDEBUG -DGGML_USE_OPENMP -DGGML_USE_LLAMAFILE  -c examples/imatrix/imatrix.cpp -o examples/imatrix/imatrix.o\n",
            "c++ -std=c++11 -fPIC -O3 -Wall -Wextra -Wpedantic -Wcast-qual -Wno-unused-function -Wmissing-declarations -Wmissing-noreturn -pthread -fopenmp  -march=native -mtune=native -Wno-array-bounds -Wno-format-truncation -Wextra-semi -I. -Icommon -D_XOPEN_SOURCE=600 -D_GNU_SOURCE -DNDEBUG -DGGML_USE_OPENMP -DGGML_USE_LLAMAFILE  ggml.o llama.o common.o sampling.o grammar-parser.o build-info.o json-schema-to-grammar.o sgemm.o ggml-alloc.o ggml-backend.o ggml-quants.o unicode.o unicode-data.o examples/imatrix/imatrix.o -o imatrix  \n",
            "c++ -std=c++11 -fPIC -O3 -Wall -Wextra -Wpedantic -Wcast-qual -Wno-unused-function -Wmissing-declarations -Wmissing-noreturn -pthread -fopenmp  -march=native -mtune=native -Wno-array-bounds -Wno-format-truncation -Wextra-semi -I. -Icommon -D_XOPEN_SOURCE=600 -D_GNU_SOURCE -DNDEBUG -DGGML_USE_OPENMP -DGGML_USE_LLAMAFILE  -c examples/embedding/embedding.cpp -o examples/embedding/embedding.o\n",
            "c++ -std=c++11 -fPIC -O3 -Wall -Wextra -Wpedantic -Wcast-qual -Wno-unused-function -Wmissing-declarations -Wmissing-noreturn -pthread -fopenmp  -march=native -mtune=native -Wno-array-bounds -Wno-format-truncation -Wextra-semi -I. -Icommon -D_XOPEN_SOURCE=600 -D_GNU_SOURCE -DNDEBUG -DGGML_USE_OPENMP -DGGML_USE_LLAMAFILE  ggml.o llama.o common.o sampling.o grammar-parser.o build-info.o json-schema-to-grammar.o sgemm.o ggml-alloc.o ggml-backend.o ggml-quants.o unicode.o unicode-data.o examples/embedding/embedding.o -o embedding  \n",
            "c++ -std=c++11 -fPIC -O3 -Wall -Wextra -Wpedantic -Wcast-qual -Wno-unused-function -Wmissing-declarations -Wmissing-noreturn -pthread -fopenmp  -march=native -mtune=native -Wno-array-bounds -Wno-format-truncation -Wextra-semi -I. -Icommon -D_XOPEN_SOURCE=600 -D_GNU_SOURCE -DNDEBUG -DGGML_USE_OPENMP -DGGML_USE_LLAMAFILE  -c pocs/vdot/vdot.cpp -o pocs/vdot/vdot.o\n",
            "c++ -std=c++11 -fPIC -O3 -Wall -Wextra -Wpedantic -Wcast-qual -Wno-unused-function -Wmissing-declarations -Wmissing-noreturn -pthread -fopenmp  -march=native -mtune=native -Wno-array-bounds -Wno-format-truncation -Wextra-semi -I. -Icommon -D_XOPEN_SOURCE=600 -D_GNU_SOURCE -DNDEBUG -DGGML_USE_OPENMP -DGGML_USE_LLAMAFILE  ggml.o sgemm.o ggml-alloc.o ggml-backend.o ggml-quants.o unicode.o unicode-data.o pocs/vdot/vdot.o -o vdot  \n",
            "c++ -std=c++11 -fPIC -O3 -Wall -Wextra -Wpedantic -Wcast-qual -Wno-unused-function -Wmissing-declarations -Wmissing-noreturn -pthread -fopenmp  -march=native -mtune=native -Wno-array-bounds -Wno-format-truncation -Wextra-semi -I. -Icommon -D_XOPEN_SOURCE=600 -D_GNU_SOURCE -DNDEBUG -DGGML_USE_OPENMP -DGGML_USE_LLAMAFILE  -c pocs/vdot/q8dot.cpp -o pocs/vdot/q8dot.o\n",
            "c++ -std=c++11 -fPIC -O3 -Wall -Wextra -Wpedantic -Wcast-qual -Wno-unused-function -Wmissing-declarations -Wmissing-noreturn -pthread -fopenmp  -march=native -mtune=native -Wno-array-bounds -Wno-format-truncation -Wextra-semi -I. -Icommon -D_XOPEN_SOURCE=600 -D_GNU_SOURCE -DNDEBUG -DGGML_USE_OPENMP -DGGML_USE_LLAMAFILE  ggml.o sgemm.o ggml-alloc.o ggml-backend.o ggml-quants.o unicode.o unicode-data.o pocs/vdot/q8dot.o -o q8dot  \n",
            "c++ -std=c++11 -fPIC -O3 -Wall -Wextra -Wpedantic -Wcast-qual -Wno-unused-function -Wmissing-declarations -Wmissing-noreturn -pthread -fopenmp  -march=native -mtune=native -Wno-array-bounds -Wno-format-truncation -Wextra-semi -I. -Icommon -D_XOPEN_SOURCE=600 -D_GNU_SOURCE -DNDEBUG -DGGML_USE_OPENMP -DGGML_USE_LLAMAFILE  -c common/train.cpp -o train.o\n",
            "c++ -std=c++11 -fPIC -O3 -Wall -Wextra -Wpedantic -Wcast-qual -Wno-unused-function -Wmissing-declarations -Wmissing-noreturn -pthread -fopenmp  -march=native -mtune=native -Wno-array-bounds -Wno-format-truncation -Wextra-semi -I. -Icommon -D_XOPEN_SOURCE=600 -D_GNU_SOURCE -DNDEBUG -DGGML_USE_OPENMP -DGGML_USE_LLAMAFILE  -c examples/train-text-from-scratch/train-text-from-scratch.cpp -o examples/train-text-from-scratch/train-text-from-scratch.o\n",
            "c++ -std=c++11 -fPIC -O3 -Wall -Wextra -Wpedantic -Wcast-qual -Wno-unused-function -Wmissing-declarations -Wmissing-noreturn -pthread -fopenmp  -march=native -mtune=native -Wno-array-bounds -Wno-format-truncation -Wextra-semi -I. -Icommon -D_XOPEN_SOURCE=600 -D_GNU_SOURCE -DNDEBUG -DGGML_USE_OPENMP -DGGML_USE_LLAMAFILE  ggml.o llama.o common.o sampling.o grammar-parser.o build-info.o json-schema-to-grammar.o train.o sgemm.o ggml-alloc.o ggml-backend.o ggml-quants.o unicode.o unicode-data.o examples/train-text-from-scratch/train-text-from-scratch.o -o train-text-from-scratch  \n",
            "c++ -std=c++11 -fPIC -O3 -Wall -Wextra -Wpedantic -Wcast-qual -Wno-unused-function -Wmissing-declarations -Wmissing-noreturn -pthread -fopenmp  -march=native -mtune=native -Wno-array-bounds -Wno-format-truncation -Wextra-semi -I. -Icommon -D_XOPEN_SOURCE=600 -D_GNU_SOURCE -DNDEBUG -DGGML_USE_OPENMP -DGGML_USE_LLAMAFILE  -c examples/convert-llama2c-to-ggml/convert-llama2c-to-ggml.cpp -o examples/convert-llama2c-to-ggml/convert-llama2c-to-ggml.o\n",
            "c++ -std=c++11 -fPIC -O3 -Wall -Wextra -Wpedantic -Wcast-qual -Wno-unused-function -Wmissing-declarations -Wmissing-noreturn -pthread -fopenmp  -march=native -mtune=native -Wno-array-bounds -Wno-format-truncation -Wextra-semi -I. -Icommon -D_XOPEN_SOURCE=600 -D_GNU_SOURCE -DNDEBUG -DGGML_USE_OPENMP -DGGML_USE_LLAMAFILE  ggml.o llama.o sgemm.o ggml-alloc.o ggml-backend.o ggml-quants.o unicode.o unicode-data.o examples/convert-llama2c-to-ggml/convert-llama2c-to-ggml.o -o convert-llama2c-to-ggml  \n",
            "c++ -std=c++11 -fPIC -O3 -Wall -Wextra -Wpedantic -Wcast-qual -Wno-unused-function -Wmissing-declarations -Wmissing-noreturn -pthread -fopenmp  -march=native -mtune=native -Wno-array-bounds -Wno-format-truncation -Wextra-semi -I. -Icommon -D_XOPEN_SOURCE=600 -D_GNU_SOURCE -DNDEBUG -DGGML_USE_OPENMP -DGGML_USE_LLAMAFILE  -c examples/simple/simple.cpp -o examples/simple/simple.o\n",
            "c++ -std=c++11 -fPIC -O3 -Wall -Wextra -Wpedantic -Wcast-qual -Wno-unused-function -Wmissing-declarations -Wmissing-noreturn -pthread -fopenmp  -march=native -mtune=native -Wno-array-bounds -Wno-format-truncation -Wextra-semi -I. -Icommon -D_XOPEN_SOURCE=600 -D_GNU_SOURCE -DNDEBUG -DGGML_USE_OPENMP -DGGML_USE_LLAMAFILE  ggml.o llama.o common.o sampling.o grammar-parser.o build-info.o json-schema-to-grammar.o sgemm.o ggml-alloc.o ggml-backend.o ggml-quants.o unicode.o unicode-data.o examples/simple/simple.o -o simple  \n",
            "c++ -std=c++11 -fPIC -O3 -Wall -Wextra -Wpedantic -Wcast-qual -Wno-unused-function -Wmissing-declarations -Wmissing-noreturn -pthread -fopenmp  -march=native -mtune=native -Wno-array-bounds -Wno-format-truncation -Wextra-semi -I. -Icommon -D_XOPEN_SOURCE=600 -D_GNU_SOURCE -DNDEBUG -DGGML_USE_OPENMP -DGGML_USE_LLAMAFILE  -c examples/batched/batched.cpp -o examples/batched/batched.o\n",
            "c++ -std=c++11 -fPIC -O3 -Wall -Wextra -Wpedantic -Wcast-qual -Wno-unused-function -Wmissing-declarations -Wmissing-noreturn -pthread -fopenmp  -march=native -mtune=native -Wno-array-bounds -Wno-format-truncation -Wextra-semi -I. -Icommon -D_XOPEN_SOURCE=600 -D_GNU_SOURCE -DNDEBUG -DGGML_USE_OPENMP -DGGML_USE_LLAMAFILE  ggml.o llama.o common.o sampling.o grammar-parser.o build-info.o json-schema-to-grammar.o sgemm.o ggml-alloc.o ggml-backend.o ggml-quants.o unicode.o unicode-data.o examples/batched/batched.o -o batched  \n",
            "c++ -std=c++11 -fPIC -O3 -Wall -Wextra -Wpedantic -Wcast-qual -Wno-unused-function -Wmissing-declarations -Wmissing-noreturn -pthread -fopenmp  -march=native -mtune=native -Wno-array-bounds -Wno-format-truncation -Wextra-semi -I. -Icommon -D_XOPEN_SOURCE=600 -D_GNU_SOURCE -DNDEBUG -DGGML_USE_OPENMP -DGGML_USE_LLAMAFILE  -c examples/batched-bench/batched-bench.cpp -o examples/batched-bench/batched-bench.o\n",
            "c++ -std=c++11 -fPIC -O3 -Wall -Wextra -Wpedantic -Wcast-qual -Wno-unused-function -Wmissing-declarations -Wmissing-noreturn -pthread -fopenmp  -march=native -mtune=native -Wno-array-bounds -Wno-format-truncation -Wextra-semi -I. -Icommon -D_XOPEN_SOURCE=600 -D_GNU_SOURCE -DNDEBUG -DGGML_USE_OPENMP -DGGML_USE_LLAMAFILE  build-info.o ggml.o llama.o common.o sampling.o grammar-parser.o json-schema-to-grammar.o sgemm.o ggml-alloc.o ggml-backend.o ggml-quants.o unicode.o unicode-data.o examples/batched-bench/batched-bench.o -o batched-bench  \n",
            "c++ -std=c++11 -fPIC -O3 -Wall -Wextra -Wpedantic -Wcast-qual -Wno-unused-function -Wmissing-declarations -Wmissing-noreturn -pthread -fopenmp  -march=native -mtune=native -Wno-array-bounds -Wno-format-truncation -Wextra-semi -I. -Icommon -D_XOPEN_SOURCE=600 -D_GNU_SOURCE -DNDEBUG -DGGML_USE_OPENMP -DGGML_USE_LLAMAFILE  -c examples/save-load-state/save-load-state.cpp -o examples/save-load-state/save-load-state.o\n",
            "c++ -std=c++11 -fPIC -O3 -Wall -Wextra -Wpedantic -Wcast-qual -Wno-unused-function -Wmissing-declarations -Wmissing-noreturn -pthread -fopenmp  -march=native -mtune=native -Wno-array-bounds -Wno-format-truncation -Wextra-semi -I. -Icommon -D_XOPEN_SOURCE=600 -D_GNU_SOURCE -DNDEBUG -DGGML_USE_OPENMP -DGGML_USE_LLAMAFILE  ggml.o llama.o common.o sampling.o grammar-parser.o build-info.o json-schema-to-grammar.o sgemm.o ggml-alloc.o ggml-backend.o ggml-quants.o unicode.o unicode-data.o examples/save-load-state/save-load-state.o -o save-load-state  \n",
            "c++ -std=c++11 -fPIC -O3 -Wall -Wextra -Wpedantic -Wcast-qual -Wno-unused-function -Wmissing-declarations -Wmissing-noreturn -pthread -fopenmp  -march=native -mtune=native -Wno-array-bounds -Wno-format-truncation -Wextra-semi -I. -Icommon -D_XOPEN_SOURCE=600 -D_GNU_SOURCE -DNDEBUG -DGGML_USE_OPENMP -DGGML_USE_LLAMAFILE  -c examples/server/server.cpp -o examples/server/server.o\n",
            "c++ -std=c++11 -fPIC -O3 -Wall -Wextra -Wpedantic -Wcast-qual -Wno-unused-function -Wmissing-declarations -Wmissing-noreturn -pthread -fopenmp  -march=native -mtune=native -Wno-array-bounds -Wno-format-truncation -Wextra-semi -I. -Icommon -D_XOPEN_SOURCE=600 -D_GNU_SOURCE -DNDEBUG -DGGML_USE_OPENMP -DGGML_USE_LLAMAFILE  ggml.o llama.o common.o sampling.o grammar-parser.o build-info.o json-schema-to-grammar.o sgemm.o ggml-alloc.o ggml-backend.o ggml-quants.o unicode.o unicode-data.o -Iexamples/server examples/server/server.o -o server   \n",
            "c++ -std=c++11 -fPIC -O3 -Wall -Wextra -Wpedantic -Wcast-qual -Wno-unused-function -Wmissing-declarations -Wmissing-noreturn -pthread -fopenmp  -march=native -mtune=native -Wno-array-bounds -Wno-format-truncation -Wextra-semi -I. -Icommon -D_XOPEN_SOURCE=600 -D_GNU_SOURCE -DNDEBUG -DGGML_USE_OPENMP -DGGML_USE_LLAMAFILE  -c examples/gguf/gguf.cpp -o examples/gguf/gguf.o\n",
            "c++ -std=c++11 -fPIC -O3 -Wall -Wextra -Wpedantic -Wcast-qual -Wno-unused-function -Wmissing-declarations -Wmissing-noreturn -pthread -fopenmp  -march=native -mtune=native -Wno-array-bounds -Wno-format-truncation -Wextra-semi -I. -Icommon -D_XOPEN_SOURCE=600 -D_GNU_SOURCE -DNDEBUG -DGGML_USE_OPENMP -DGGML_USE_LLAMAFILE  ggml.o sgemm.o ggml-alloc.o ggml-backend.o ggml-quants.o unicode.o unicode-data.o examples/gguf/gguf.o -o gguf  \n",
            "c++ -std=c++11 -fPIC -O3 -Wall -Wextra -Wpedantic -Wcast-qual -Wno-unused-function -Wmissing-declarations -Wmissing-noreturn -pthread -fopenmp  -march=native -mtune=native -Wno-array-bounds -Wno-format-truncation -Wextra-semi -I. -Icommon -D_XOPEN_SOURCE=600 -D_GNU_SOURCE -DNDEBUG -DGGML_USE_OPENMP -DGGML_USE_LLAMAFILE  -c examples/gguf-split/gguf-split.cpp -o examples/gguf-split/gguf-split.o\n",
            "c++ -std=c++11 -fPIC -O3 -Wall -Wextra -Wpedantic -Wcast-qual -Wno-unused-function -Wmissing-declarations -Wmissing-noreturn -pthread -fopenmp  -march=native -mtune=native -Wno-array-bounds -Wno-format-truncation -Wextra-semi -I. -Icommon -D_XOPEN_SOURCE=600 -D_GNU_SOURCE -DNDEBUG -DGGML_USE_OPENMP -DGGML_USE_LLAMAFILE  ggml.o llama.o common.o sampling.o grammar-parser.o build-info.o json-schema-to-grammar.o sgemm.o ggml-alloc.o ggml-backend.o ggml-quants.o unicode.o unicode-data.o examples/gguf-split/gguf-split.o -o gguf-split  \n",
            "c++ -std=c++11 -fPIC -O3 -Wall -Wextra -Wpedantic -Wcast-qual -Wno-unused-function -Wmissing-declarations -Wmissing-noreturn -pthread -fopenmp  -march=native -mtune=native -Wno-array-bounds -Wno-format-truncation -Wextra-semi -I. -Icommon -D_XOPEN_SOURCE=600 -D_GNU_SOURCE -DNDEBUG -DGGML_USE_OPENMP -DGGML_USE_LLAMAFILE  -c examples/eval-callback/eval-callback.cpp -o examples/eval-callback/eval-callback.o\n",
            "c++ -std=c++11 -fPIC -O3 -Wall -Wextra -Wpedantic -Wcast-qual -Wno-unused-function -Wmissing-declarations -Wmissing-noreturn -pthread -fopenmp  -march=native -mtune=native -Wno-array-bounds -Wno-format-truncation -Wextra-semi -I. -Icommon -D_XOPEN_SOURCE=600 -D_GNU_SOURCE -DNDEBUG -DGGML_USE_OPENMP -DGGML_USE_LLAMAFILE  ggml.o llama.o common.o sampling.o grammar-parser.o build-info.o json-schema-to-grammar.o sgemm.o ggml-alloc.o ggml-backend.o ggml-quants.o unicode.o unicode-data.o examples/eval-callback/eval-callback.o -o eval-callback  \n",
            "c++ -std=c++11 -fPIC -O3 -Wall -Wextra -Wpedantic -Wcast-qual -Wno-unused-function -Wmissing-declarations -Wmissing-noreturn -pthread -fopenmp  -march=native -mtune=native -Wno-array-bounds -Wno-format-truncation -Wextra-semi -I. -Icommon -D_XOPEN_SOURCE=600 -D_GNU_SOURCE -DNDEBUG -DGGML_USE_OPENMP -DGGML_USE_LLAMAFILE  -c examples/llama-bench/llama-bench.cpp -o examples/llama-bench/llama-bench.o\n",
            "c++ -std=c++11 -fPIC -O3 -Wall -Wextra -Wpedantic -Wcast-qual -Wno-unused-function -Wmissing-declarations -Wmissing-noreturn -pthread -fopenmp  -march=native -mtune=native -Wno-array-bounds -Wno-format-truncation -Wextra-semi -I. -Icommon -D_XOPEN_SOURCE=600 -D_GNU_SOURCE -DNDEBUG -DGGML_USE_OPENMP -DGGML_USE_LLAMAFILE  ggml.o llama.o common.o sampling.o grammar-parser.o build-info.o json-schema-to-grammar.o sgemm.o ggml-alloc.o ggml-backend.o ggml-quants.o unicode.o unicode-data.o examples/llama-bench/llama-bench.o -o llama-bench  \n",
            "c++ -std=c++11 -fPIC -O3 -Wall -Wextra -Wpedantic -Wcast-qual -Wno-unused-function -Wmissing-declarations -Wmissing-noreturn -pthread -fopenmp  -march=native -mtune=native -Wno-array-bounds -Wno-format-truncation -Wextra-semi -I. -Icommon -D_XOPEN_SOURCE=600 -D_GNU_SOURCE -DNDEBUG -DGGML_USE_OPENMP -DGGML_USE_LLAMAFILE  -static -fPIC -c examples/llava/llava.cpp -o libllava.a -Wno-cast-qual\n",
            "c++ -std=c++11 -fPIC -O3 -Wall -Wextra -Wpedantic -Wcast-qual -Wno-unused-function -Wmissing-declarations -Wmissing-noreturn -pthread -fopenmp  -march=native -mtune=native -Wno-array-bounds -Wno-format-truncation -Wextra-semi -I. -Icommon -D_XOPEN_SOURCE=600 -D_GNU_SOURCE -DNDEBUG -DGGML_USE_OPENMP -DGGML_USE_LLAMAFILE  -c examples/llava/llava-cli.cpp -o examples/llava/llava-cli.o\n",
            "c++ -std=c++11 -fPIC -O3 -Wall -Wextra -Wpedantic -Wcast-qual -Wno-unused-function -Wmissing-declarations -Wmissing-noreturn -pthread -fopenmp  -march=native -mtune=native -Wno-array-bounds -Wno-format-truncation -Wextra-semi -I. -Icommon -D_XOPEN_SOURCE=600 -D_GNU_SOURCE -DNDEBUG -DGGML_USE_OPENMP -DGGML_USE_LLAMAFILE  -c examples/llava/clip.cpp  -o examples/llava/clip.o -Wno-cast-qual\n",
            "c++ -std=c++11 -fPIC -O3 -Wall -Wextra -Wpedantic -Wcast-qual -Wno-unused-function -Wmissing-declarations -Wmissing-noreturn -pthread -fopenmp  -march=native -mtune=native -Wno-array-bounds -Wno-format-truncation -Wextra-semi -I. -Icommon -D_XOPEN_SOURCE=600 -D_GNU_SOURCE -DNDEBUG -DGGML_USE_OPENMP -DGGML_USE_LLAMAFILE  -c examples/llava/llava.cpp -o examples/llava/llava.o\n",
            "c++ -std=c++11 -fPIC -O3 -Wall -Wextra -Wpedantic -Wcast-qual -Wno-unused-function -Wmissing-declarations -Wmissing-noreturn -pthread -fopenmp  -march=native -mtune=native -Wno-array-bounds -Wno-format-truncation -Wextra-semi -I. -Icommon -D_XOPEN_SOURCE=600 -D_GNU_SOURCE -DNDEBUG -DGGML_USE_OPENMP -DGGML_USE_LLAMAFILE  ggml.o llama.o common.o sampling.o grammar-parser.o build-info.o json-schema-to-grammar.o sgemm.o ggml-alloc.o ggml-backend.o ggml-quants.o unicode.o unicode-data.o examples/llava/llava-cli.o examples/llava/clip.o examples/llava/llava.o -o llava-cli  \n",
            "c++ -std=c++11 -fPIC -O3 -Wall -Wextra -Wpedantic -Wcast-qual -Wno-unused-function -Wmissing-declarations -Wmissing-noreturn -pthread -fopenmp  -march=native -mtune=native -Wno-array-bounds -Wno-format-truncation -Wextra-semi -I. -Icommon -D_XOPEN_SOURCE=600 -D_GNU_SOURCE -DNDEBUG -DGGML_USE_OPENMP -DGGML_USE_LLAMAFILE  -c examples/baby-llama/baby-llama.cpp -o examples/baby-llama/baby-llama.o\n",
            "c++ -std=c++11 -fPIC -O3 -Wall -Wextra -Wpedantic -Wcast-qual -Wno-unused-function -Wmissing-declarations -Wmissing-noreturn -pthread -fopenmp  -march=native -mtune=native -Wno-array-bounds -Wno-format-truncation -Wextra-semi -I. -Icommon -D_XOPEN_SOURCE=600 -D_GNU_SOURCE -DNDEBUG -DGGML_USE_OPENMP -DGGML_USE_LLAMAFILE  ggml.o llama.o common.o sampling.o grammar-parser.o build-info.o json-schema-to-grammar.o train.o sgemm.o ggml-alloc.o ggml-backend.o ggml-quants.o unicode.o unicode-data.o examples/baby-llama/baby-llama.o -o baby-llama  \n",
            "c++ -std=c++11 -fPIC -O3 -Wall -Wextra -Wpedantic -Wcast-qual -Wno-unused-function -Wmissing-declarations -Wmissing-noreturn -pthread -fopenmp  -march=native -mtune=native -Wno-array-bounds -Wno-format-truncation -Wextra-semi -I. -Icommon -D_XOPEN_SOURCE=600 -D_GNU_SOURCE -DNDEBUG -DGGML_USE_OPENMP -DGGML_USE_LLAMAFILE  -c examples/retrieval/retrieval.cpp -o examples/retrieval/retrieval.o\n",
            "c++ -std=c++11 -fPIC -O3 -Wall -Wextra -Wpedantic -Wcast-qual -Wno-unused-function -Wmissing-declarations -Wmissing-noreturn -pthread -fopenmp  -march=native -mtune=native -Wno-array-bounds -Wno-format-truncation -Wextra-semi -I. -Icommon -D_XOPEN_SOURCE=600 -D_GNU_SOURCE -DNDEBUG -DGGML_USE_OPENMP -DGGML_USE_LLAMAFILE  ggml.o llama.o common.o sampling.o grammar-parser.o build-info.o json-schema-to-grammar.o sgemm.o ggml-alloc.o ggml-backend.o ggml-quants.o unicode.o unicode-data.o examples/retrieval/retrieval.o -o retrieval  \n",
            "c++ -std=c++11 -fPIC -O3 -Wall -Wextra -Wpedantic -Wcast-qual -Wno-unused-function -Wmissing-declarations -Wmissing-noreturn -pthread -fopenmp  -march=native -mtune=native -Wno-array-bounds -Wno-format-truncation -Wextra-semi -I. -Icommon -D_XOPEN_SOURCE=600 -D_GNU_SOURCE -DNDEBUG -DGGML_USE_OPENMP -DGGML_USE_LLAMAFILE  -c examples/speculative/speculative.cpp -o examples/speculative/speculative.o\n",
            "c++ -std=c++11 -fPIC -O3 -Wall -Wextra -Wpedantic -Wcast-qual -Wno-unused-function -Wmissing-declarations -Wmissing-noreturn -pthread -fopenmp  -march=native -mtune=native -Wno-array-bounds -Wno-format-truncation -Wextra-semi -I. -Icommon -D_XOPEN_SOURCE=600 -D_GNU_SOURCE -DNDEBUG -DGGML_USE_OPENMP -DGGML_USE_LLAMAFILE  ggml.o llama.o common.o sampling.o grammar-parser.o build-info.o json-schema-to-grammar.o sgemm.o ggml-alloc.o ggml-backend.o ggml-quants.o unicode.o unicode-data.o examples/speculative/speculative.o -o speculative  \n",
            "c++ -std=c++11 -fPIC -O3 -Wall -Wextra -Wpedantic -Wcast-qual -Wno-unused-function -Wmissing-declarations -Wmissing-noreturn -pthread -fopenmp  -march=native -mtune=native -Wno-array-bounds -Wno-format-truncation -Wextra-semi -I. -Icommon -D_XOPEN_SOURCE=600 -D_GNU_SOURCE -DNDEBUG -DGGML_USE_OPENMP -DGGML_USE_LLAMAFILE  -c examples/infill/infill.cpp -o examples/infill/infill.o\n",
            "c++ -std=c++11 -fPIC -O3 -Wall -Wextra -Wpedantic -Wcast-qual -Wno-unused-function -Wmissing-declarations -Wmissing-noreturn -pthread -fopenmp  -march=native -mtune=native -Wno-array-bounds -Wno-format-truncation -Wextra-semi -I. -Icommon -D_XOPEN_SOURCE=600 -D_GNU_SOURCE -DNDEBUG -DGGML_USE_OPENMP -DGGML_USE_LLAMAFILE  ggml.o llama.o common.o sampling.o grammar-parser.o build-info.o json-schema-to-grammar.o console.o sgemm.o ggml-alloc.o ggml-backend.o ggml-quants.o unicode.o unicode-data.o examples/infill/infill.o -o infill  \n",
            "c++ -std=c++11 -fPIC -O3 -Wall -Wextra -Wpedantic -Wcast-qual -Wno-unused-function -Wmissing-declarations -Wmissing-noreturn -pthread -fopenmp  -march=native -mtune=native -Wno-array-bounds -Wno-format-truncation -Wextra-semi -I. -Icommon -D_XOPEN_SOURCE=600 -D_GNU_SOURCE -DNDEBUG -DGGML_USE_OPENMP -DGGML_USE_LLAMAFILE  -c examples/tokenize/tokenize.cpp -o examples/tokenize/tokenize.o\n",
            "c++ -std=c++11 -fPIC -O3 -Wall -Wextra -Wpedantic -Wcast-qual -Wno-unused-function -Wmissing-declarations -Wmissing-noreturn -pthread -fopenmp  -march=native -mtune=native -Wno-array-bounds -Wno-format-truncation -Wextra-semi -I. -Icommon -D_XOPEN_SOURCE=600 -D_GNU_SOURCE -DNDEBUG -DGGML_USE_OPENMP -DGGML_USE_LLAMAFILE  ggml.o llama.o common.o sampling.o grammar-parser.o build-info.o json-schema-to-grammar.o sgemm.o ggml-alloc.o ggml-backend.o ggml-quants.o unicode.o unicode-data.o examples/tokenize/tokenize.o -o tokenize  \n",
            "c++ -std=c++11 -fPIC -O3 -Wall -Wextra -Wpedantic -Wcast-qual -Wno-unused-function -Wmissing-declarations -Wmissing-noreturn -pthread -fopenmp  -march=native -mtune=native -Wno-array-bounds -Wno-format-truncation -Wextra-semi -I. -Icommon -D_XOPEN_SOURCE=600 -D_GNU_SOURCE -DNDEBUG -DGGML_USE_OPENMP -DGGML_USE_LLAMAFILE  -c examples/benchmark/benchmark-matmult.cpp -o examples/benchmark/benchmark-matmult.o\n",
            "c++ -std=c++11 -fPIC -O3 -Wall -Wextra -Wpedantic -Wcast-qual -Wno-unused-function -Wmissing-declarations -Wmissing-noreturn -pthread -fopenmp  -march=native -mtune=native -Wno-array-bounds -Wno-format-truncation -Wextra-semi -I. -Icommon -D_XOPEN_SOURCE=600 -D_GNU_SOURCE -DNDEBUG -DGGML_USE_OPENMP -DGGML_USE_LLAMAFILE  build-info.o ggml.o sgemm.o ggml-alloc.o ggml-backend.o ggml-quants.o unicode.o unicode-data.o examples/benchmark/benchmark-matmult.o -o benchmark-matmult  \n",
            "c++ -std=c++11 -fPIC -O3 -Wall -Wextra -Wpedantic -Wcast-qual -Wno-unused-function -Wmissing-declarations -Wmissing-noreturn -pthread -fopenmp  -march=native -mtune=native -Wno-array-bounds -Wno-format-truncation -Wextra-semi -I. -Icommon -D_XOPEN_SOURCE=600 -D_GNU_SOURCE -DNDEBUG -DGGML_USE_OPENMP -DGGML_USE_LLAMAFILE  -c examples/parallel/parallel.cpp -o examples/parallel/parallel.o\n",
            "c++ -std=c++11 -fPIC -O3 -Wall -Wextra -Wpedantic -Wcast-qual -Wno-unused-function -Wmissing-declarations -Wmissing-noreturn -pthread -fopenmp  -march=native -mtune=native -Wno-array-bounds -Wno-format-truncation -Wextra-semi -I. -Icommon -D_XOPEN_SOURCE=600 -D_GNU_SOURCE -DNDEBUG -DGGML_USE_OPENMP -DGGML_USE_LLAMAFILE  ggml.o llama.o common.o sampling.o grammar-parser.o build-info.o json-schema-to-grammar.o sgemm.o ggml-alloc.o ggml-backend.o ggml-quants.o unicode.o unicode-data.o examples/parallel/parallel.o -o parallel  \n",
            "c++ -std=c++11 -fPIC -O3 -Wall -Wextra -Wpedantic -Wcast-qual -Wno-unused-function -Wmissing-declarations -Wmissing-noreturn -pthread -fopenmp  -march=native -mtune=native -Wno-array-bounds -Wno-format-truncation -Wextra-semi -I. -Icommon -D_XOPEN_SOURCE=600 -D_GNU_SOURCE -DNDEBUG -DGGML_USE_OPENMP -DGGML_USE_LLAMAFILE  -c examples/finetune/finetune.cpp -o examples/finetune/finetune.o\n",
            "c++ -std=c++11 -fPIC -O3 -Wall -Wextra -Wpedantic -Wcast-qual -Wno-unused-function -Wmissing-declarations -Wmissing-noreturn -pthread -fopenmp  -march=native -mtune=native -Wno-array-bounds -Wno-format-truncation -Wextra-semi -I. -Icommon -D_XOPEN_SOURCE=600 -D_GNU_SOURCE -DNDEBUG -DGGML_USE_OPENMP -DGGML_USE_LLAMAFILE  ggml.o llama.o common.o sampling.o grammar-parser.o build-info.o json-schema-to-grammar.o train.o sgemm.o ggml-alloc.o ggml-backend.o ggml-quants.o unicode.o unicode-data.o examples/finetune/finetune.o -o finetune  \n",
            "c++ -std=c++11 -fPIC -O3 -Wall -Wextra -Wpedantic -Wcast-qual -Wno-unused-function -Wmissing-declarations -Wmissing-noreturn -pthread -fopenmp  -march=native -mtune=native -Wno-array-bounds -Wno-format-truncation -Wextra-semi -I. -Icommon -D_XOPEN_SOURCE=600 -D_GNU_SOURCE -DNDEBUG -DGGML_USE_OPENMP -DGGML_USE_LLAMAFILE  -c examples/export-lora/export-lora.cpp -o examples/export-lora/export-lora.o\n",
            "c++ -std=c++11 -fPIC -O3 -Wall -Wextra -Wpedantic -Wcast-qual -Wno-unused-function -Wmissing-declarations -Wmissing-noreturn -pthread -fopenmp  -march=native -mtune=native -Wno-array-bounds -Wno-format-truncation -Wextra-semi -I. -Icommon -D_XOPEN_SOURCE=600 -D_GNU_SOURCE -DNDEBUG -DGGML_USE_OPENMP -DGGML_USE_LLAMAFILE  ggml.o sgemm.o ggml-alloc.o ggml-backend.o ggml-quants.o unicode.o unicode-data.o examples/export-lora/export-lora.o -o export-lora  \n",
            "c++ -std=c++11 -fPIC -O3 -Wall -Wextra -Wpedantic -Wcast-qual -Wno-unused-function -Wmissing-declarations -Wmissing-noreturn -pthread -fopenmp  -march=native -mtune=native -Wno-array-bounds -Wno-format-truncation -Wextra-semi -I. -Icommon -D_XOPEN_SOURCE=600 -D_GNU_SOURCE -DNDEBUG -DGGML_USE_OPENMP -DGGML_USE_LLAMAFILE  -c examples/lookahead/lookahead.cpp -o examples/lookahead/lookahead.o\n",
            "c++ -std=c++11 -fPIC -O3 -Wall -Wextra -Wpedantic -Wcast-qual -Wno-unused-function -Wmissing-declarations -Wmissing-noreturn -pthread -fopenmp  -march=native -mtune=native -Wno-array-bounds -Wno-format-truncation -Wextra-semi -I. -Icommon -D_XOPEN_SOURCE=600 -D_GNU_SOURCE -DNDEBUG -DGGML_USE_OPENMP -DGGML_USE_LLAMAFILE  ggml.o llama.o common.o sampling.o grammar-parser.o build-info.o json-schema-to-grammar.o sgemm.o ggml-alloc.o ggml-backend.o ggml-quants.o unicode.o unicode-data.o examples/lookahead/lookahead.o -o lookahead  \n",
            "c++ -std=c++11 -fPIC -O3 -Wall -Wextra -Wpedantic -Wcast-qual -Wno-unused-function -Wmissing-declarations -Wmissing-noreturn -pthread -fopenmp  -march=native -mtune=native -Wno-array-bounds -Wno-format-truncation -Wextra-semi -I. -Icommon -D_XOPEN_SOURCE=600 -D_GNU_SOURCE -DNDEBUG -DGGML_USE_OPENMP -DGGML_USE_LLAMAFILE  -c common/ngram-cache.cpp -o ngram-cache.o\n",
            "c++ -std=c++11 -fPIC -O3 -Wall -Wextra -Wpedantic -Wcast-qual -Wno-unused-function -Wmissing-declarations -Wmissing-noreturn -pthread -fopenmp  -march=native -mtune=native -Wno-array-bounds -Wno-format-truncation -Wextra-semi -I. -Icommon -D_XOPEN_SOURCE=600 -D_GNU_SOURCE -DNDEBUG -DGGML_USE_OPENMP -DGGML_USE_LLAMAFILE  -c examples/lookup/lookup.cpp -o examples/lookup/lookup.o\n",
            "c++ -std=c++11 -fPIC -O3 -Wall -Wextra -Wpedantic -Wcast-qual -Wno-unused-function -Wmissing-declarations -Wmissing-noreturn -pthread -fopenmp  -march=native -mtune=native -Wno-array-bounds -Wno-format-truncation -Wextra-semi -I. -Icommon -D_XOPEN_SOURCE=600 -D_GNU_SOURCE -DNDEBUG -DGGML_USE_OPENMP -DGGML_USE_LLAMAFILE  ggml.o llama.o ngram-cache.o common.o sampling.o grammar-parser.o build-info.o json-schema-to-grammar.o sgemm.o ggml-alloc.o ggml-backend.o ggml-quants.o unicode.o unicode-data.o examples/lookup/lookup.o -o lookup  \n",
            "c++ -std=c++11 -fPIC -O3 -Wall -Wextra -Wpedantic -Wcast-qual -Wno-unused-function -Wmissing-declarations -Wmissing-noreturn -pthread -fopenmp  -march=native -mtune=native -Wno-array-bounds -Wno-format-truncation -Wextra-semi -I. -Icommon -D_XOPEN_SOURCE=600 -D_GNU_SOURCE -DNDEBUG -DGGML_USE_OPENMP -DGGML_USE_LLAMAFILE  -c examples/lookup/lookup-create.cpp -o examples/lookup/lookup-create.o\n",
            "c++ -std=c++11 -fPIC -O3 -Wall -Wextra -Wpedantic -Wcast-qual -Wno-unused-function -Wmissing-declarations -Wmissing-noreturn -pthread -fopenmp  -march=native -mtune=native -Wno-array-bounds -Wno-format-truncation -Wextra-semi -I. -Icommon -D_XOPEN_SOURCE=600 -D_GNU_SOURCE -DNDEBUG -DGGML_USE_OPENMP -DGGML_USE_LLAMAFILE  ggml.o llama.o ngram-cache.o common.o sampling.o grammar-parser.o build-info.o json-schema-to-grammar.o sgemm.o ggml-alloc.o ggml-backend.o ggml-quants.o unicode.o unicode-data.o examples/lookup/lookup-create.o -o lookup-create  \n",
            "c++ -std=c++11 -fPIC -O3 -Wall -Wextra -Wpedantic -Wcast-qual -Wno-unused-function -Wmissing-declarations -Wmissing-noreturn -pthread -fopenmp  -march=native -mtune=native -Wno-array-bounds -Wno-format-truncation -Wextra-semi -I. -Icommon -D_XOPEN_SOURCE=600 -D_GNU_SOURCE -DNDEBUG -DGGML_USE_OPENMP -DGGML_USE_LLAMAFILE  -c examples/lookup/lookup-merge.cpp -o examples/lookup/lookup-merge.o\n",
            "c++ -std=c++11 -fPIC -O3 -Wall -Wextra -Wpedantic -Wcast-qual -Wno-unused-function -Wmissing-declarations -Wmissing-noreturn -pthread -fopenmp  -march=native -mtune=native -Wno-array-bounds -Wno-format-truncation -Wextra-semi -I. -Icommon -D_XOPEN_SOURCE=600 -D_GNU_SOURCE -DNDEBUG -DGGML_USE_OPENMP -DGGML_USE_LLAMAFILE  ggml.o llama.o ngram-cache.o common.o sampling.o grammar-parser.o build-info.o json-schema-to-grammar.o sgemm.o ggml-alloc.o ggml-backend.o ggml-quants.o unicode.o unicode-data.o examples/lookup/lookup-merge.o -o lookup-merge  \n",
            "c++ -std=c++11 -fPIC -O3 -Wall -Wextra -Wpedantic -Wcast-qual -Wno-unused-function -Wmissing-declarations -Wmissing-noreturn -pthread -fopenmp  -march=native -mtune=native -Wno-array-bounds -Wno-format-truncation -Wextra-semi -I. -Icommon -D_XOPEN_SOURCE=600 -D_GNU_SOURCE -DNDEBUG -DGGML_USE_OPENMP -DGGML_USE_LLAMAFILE  -c examples/lookup/lookup-stats.cpp -o examples/lookup/lookup-stats.o\n",
            "c++ -std=c++11 -fPIC -O3 -Wall -Wextra -Wpedantic -Wcast-qual -Wno-unused-function -Wmissing-declarations -Wmissing-noreturn -pthread -fopenmp  -march=native -mtune=native -Wno-array-bounds -Wno-format-truncation -Wextra-semi -I. -Icommon -D_XOPEN_SOURCE=600 -D_GNU_SOURCE -DNDEBUG -DGGML_USE_OPENMP -DGGML_USE_LLAMAFILE  ggml.o llama.o ngram-cache.o common.o sampling.o grammar-parser.o build-info.o json-schema-to-grammar.o sgemm.o ggml-alloc.o ggml-backend.o ggml-quants.o unicode.o unicode-data.o examples/lookup/lookup-stats.o -o lookup-stats  \n",
            "c++ -std=c++11 -fPIC -O3 -Wall -Wextra -Wpedantic -Wcast-qual -Wno-unused-function -Wmissing-declarations -Wmissing-noreturn -pthread -fopenmp  -march=native -mtune=native -Wno-array-bounds -Wno-format-truncation -Wextra-semi -I. -Icommon -D_XOPEN_SOURCE=600 -D_GNU_SOURCE -DNDEBUG -DGGML_USE_OPENMP -DGGML_USE_LLAMAFILE  -c examples/passkey/passkey.cpp -o examples/passkey/passkey.o\n",
            "c++ -std=c++11 -fPIC -O3 -Wall -Wextra -Wpedantic -Wcast-qual -Wno-unused-function -Wmissing-declarations -Wmissing-noreturn -pthread -fopenmp  -march=native -mtune=native -Wno-array-bounds -Wno-format-truncation -Wextra-semi -I. -Icommon -D_XOPEN_SOURCE=600 -D_GNU_SOURCE -DNDEBUG -DGGML_USE_OPENMP -DGGML_USE_LLAMAFILE  ggml.o llama.o common.o sampling.o grammar-parser.o build-info.o json-schema-to-grammar.o sgemm.o ggml-alloc.o ggml-backend.o ggml-quants.o unicode.o unicode-data.o examples/passkey/passkey.o -o passkey  \n",
            "c++ -std=c++11 -fPIC -O3 -Wall -Wextra -Wpedantic -Wcast-qual -Wno-unused-function -Wmissing-declarations -Wmissing-noreturn -pthread -fopenmp  -march=native -mtune=native -Wno-array-bounds -Wno-format-truncation -Wextra-semi -I. -Icommon -D_XOPEN_SOURCE=600 -D_GNU_SOURCE -DNDEBUG -DGGML_USE_OPENMP -DGGML_USE_LLAMAFILE  -c examples/gritlm/gritlm.cpp -o examples/gritlm/gritlm.o\n",
            "c++ -std=c++11 -fPIC -O3 -Wall -Wextra -Wpedantic -Wcast-qual -Wno-unused-function -Wmissing-declarations -Wmissing-noreturn -pthread -fopenmp  -march=native -mtune=native -Wno-array-bounds -Wno-format-truncation -Wextra-semi -I. -Icommon -D_XOPEN_SOURCE=600 -D_GNU_SOURCE -DNDEBUG -DGGML_USE_OPENMP -DGGML_USE_LLAMAFILE  ggml.o llama.o common.o sampling.o grammar-parser.o build-info.o json-schema-to-grammar.o sgemm.o ggml-alloc.o ggml-backend.o ggml-quants.o unicode.o unicode-data.o examples/gritlm/gritlm.o -o gritlm  \n",
            "cc -I. -Icommon -D_XOPEN_SOURCE=600 -D_GNU_SOURCE -DNDEBUG -DGGML_USE_OPENMP -DGGML_USE_LLAMAFILE  -std=c11   -fPIC -O3 -Wall -Wextra -Wpedantic -Wcast-qual -Wno-unused-function -Wshadow -Wstrict-prototypes -Wpointer-arith -Wmissing-prototypes -Werror=implicit-int -Werror=implicit-function-declaration -pthread -march=native -mtune=native -fopenmp -Wdouble-promotion  -c tests/test-c.c -o tests/test-c.o\n"
          ]
        },
        {
          "output_type": "stream",
          "name": "stderr",
          "text": [
            "ggml.c: In function ‘BILLAUD_print_weight_f32’:\n",
            "ggml.c:17345:42: warning: too many arguments for format [-Wformat-extra-args]\n",
            "17345 |     snprintf(filename, sizeof(filename), \"weights.csv\", name);\n",
            "      |                                          ^~~~~~~~~~~~~\n",
            "ggml.c:17362:36: warning: format ‘%lld’ expects argument of type ‘long long int’, but argument 5 has type ‘int64_t’ {aka ‘long int’} [-Wformat=]\n",
            "17362 |         fprintf(logFile, \"%s;%s;%lld;%lld;%lld;\",ggml_op_to_string(dst->op), dst->src[0]->name, dst->src[0]->ne[0], dst->src[0]->ne[1], dst->src[0]->ne[2]);\n",
            "      |                                 ~~~^                                                            ~~~~~~~~~~~~~~~~~~\n",
            "      |                                    |                                                                           |\n",
            "      |                                    long long int                                                               int64_t {aka long int}\n",
            "      |                                 %ld\n",
            "ggml.c:17362:41: warning: format ‘%lld’ expects argument of type ‘long long int’, but argument 6 has type ‘int64_t’ {aka ‘long int’} [-Wformat=]\n",
            "17362 |         fprintf(logFile, \"%s;%s;%lld;%lld;%lld;\",ggml_op_to_string(dst->op), dst->src[0]->name, dst->src[0]->ne[0], dst->src[0]->ne[1], dst->src[0]->ne[2]);\n",
            "      |                                      ~~~^                                                                           ~~~~~~~~~~~~~~~~~~\n",
            "      |                                         |                                                                                          |\n",
            "      |                                         long long int                                                                              int64_t {aka long int}\n",
            "      |                                      %ld\n",
            "ggml.c:17362:46: warning: format ‘%lld’ expects argument of type ‘long long int’, but argument 7 has type ‘int64_t’ {aka ‘long int’} [-Wformat=]\n",
            "17362 |         fprintf(logFile, \"%s;%s;%lld;%lld;%lld;\",ggml_op_to_string(dst->op), dst->src[0]->name, dst->src[0]->ne[0], dst->src[0]->ne[1], dst->src[0]->ne[2]);\n",
            "      |                                           ~~~^                                                                                          ~~~~~~~~~~~~~~~~~~\n",
            "      |                                              |                                                                                                         |\n",
            "      |                                              long long int                                                                                             int64_t {aka long int}\n",
            "      |                                           %ld\n",
            "ggml.c:17370:36: warning: format ‘%lld’ expects argument of type ‘long long int’, but argument 5 has type ‘int64_t’ {aka ‘long int’} [-Wformat=]\n",
            "17370 |         fprintf(logFile, \"%s;%s;%lld;%lld;%lld;\", ggml_op_to_string(dst->op), dst->src[1]->name, dst->src[1]->ne[0], dst->src[1]->ne[1], dst->src[1]->ne[2]);\n",
            "      |                                 ~~~^                                                             ~~~~~~~~~~~~~~~~~~\n",
            "      |                                    |                                                                            |\n",
            "      |                                    long long int                                                                int64_t {aka long int}\n",
            "      |                                 %ld\n",
            "ggml.c:17370:41: warning: format ‘%lld’ expects argument of type ‘long long int’, but argument 6 has type ‘int64_t’ {aka ‘long int’} [-Wformat=]\n",
            "17370 |         fprintf(logFile, \"%s;%s;%lld;%lld;%lld;\", ggml_op_to_string(dst->op), dst->src[1]->name, dst->src[1]->ne[0], dst->src[1]->ne[1], dst->src[1]->ne[2]);\n",
            "      |                                      ~~~^                                                                            ~~~~~~~~~~~~~~~~~~\n",
            "      |                                         |                                                                                           |\n",
            "      |                                         long long int                                                                               int64_t {aka long int}\n",
            "      |                                      %ld\n",
            "ggml.c:17370:46: warning: format ‘%lld’ expects argument of type ‘long long int’, but argument 7 has type ‘int64_t’ {aka ‘long int’} [-Wformat=]\n",
            "17370 |         fprintf(logFile, \"%s;%s;%lld;%lld;%lld;\", ggml_op_to_string(dst->op), dst->src[1]->name, dst->src[1]->ne[0], dst->src[1]->ne[1], dst->src[1]->ne[2]);\n",
            "      |                                           ~~~^                                                                                           ~~~~~~~~~~~~~~~~~~\n",
            "      |                                              |                                                                                                          |\n",
            "      |                                              long long int                                                                                              int64_t {aka long int}\n",
            "      |                                           %ld\n"
          ]
        }
      ],
      "source": [
        "%%bash\n",
        "cd llama.cpp/\n",
        "make"
      ]
    },
    {
      "cell_type": "code",
      "execution_count": 9,
      "metadata": {
        "colab": {
          "base_uri": "https://localhost:8080/"
        },
        "id": "KrezPsWohW7t",
        "outputId": "41303a0a-08eb-4d77-cb0a-332e00d14040"
      },
      "outputs": [
        {
          "output_type": "stream",
          "name": "stdout",
          "text": [
            "mkdir: cannot create directory ‘LLAMAcpp-performance/aggregations/NeuralNetwork’: No such file or directory\n"
          ]
        }
      ],
      "source": [
        "!mkdir LLAMAcpp-performance/aggregations/NeuralNetwork"
      ]
    },
    {
      "cell_type": "markdown",
      "metadata": {
        "id": "HwWMd4rXhhbF"
      },
      "source": [
        "# Preparation commands"
      ]
    },
    {
      "cell_type": "code",
      "execution_count": 11,
      "metadata": {
        "colab": {
          "base_uri": "https://localhost:8080/"
        },
        "id": "WupFB6QM_LKM",
        "outputId": "949ba540-425b-4fe7-f796-2f0643cc2538"
      },
      "outputs": [
        {
          "output_type": "stream",
          "name": "stdout",
          "text": [
            "['option_mirostat.txt', 'option_ctv_ctk.txt', 'option_repeat_penalty.txt', 'option_keep.txt', 'option_threads.txt', 'option_grp_att.txt', 'option_temp.txt', 'option_top-p.txt', 'option_nkvo.txt', 'option_typical.txt', 'option_tfs.txt', 'option_min-p.txt', 'option_top-k.txt', 'option_repeat_last_n.txt', 'option_split.txt']\n",
            "option_mirostat.txt\n",
            "option_ctv_ctk.txt\n",
            "option_repeat_penalty.txt\n",
            "option_keep.txt\n",
            "option_threads.txt\n",
            "option_grp_att.txt\n",
            "option_temp.txt\n",
            "option_top-p.txt\n",
            "option_nkvo.txt\n",
            "option_typical.txt\n",
            "option_tfs.txt\n",
            "option_min-p.txt\n",
            "option_top-k.txt\n",
            "option_repeat_last_n.txt\n",
            "option_split.txt\n"
          ]
        }
      ],
      "source": [
        "#Add combination of 1 option\n",
        "%%bash\n",
        "cd LLAMAcpp-performance/inputs/option\n",
        "python \"combine_command_1options.py\""
      ]
    },
    {
      "cell_type": "code",
      "execution_count": 10,
      "metadata": {
        "colab": {
          "base_uri": "https://localhost:8080/"
        },
        "id": "j-YBXEkA_SE9",
        "outputId": "fa72de6a-5ca6-4d1c-f9e1-bb5c9fd050b9"
      },
      "outputs": [
        {
          "output_type": "stream",
          "name": "stdout",
          "text": [
            "['option_mirostat.txt', 'option_ctv_ctk.txt', 'option_repeat_penalty.txt', 'option_keep.txt', 'option_threads.txt', 'option_grp_att.txt', 'option_temp.txt', 'option_top-p.txt', 'option_nkvo.txt', 'option_typical.txt', 'option_tfs.txt', 'option_min-p.txt', 'option_top-k.txt', 'option_repeat_last_n.txt', 'option_split.txt']\n",
            "option_mirostat.txt\n",
            "option_ctv_ctk.txt\n",
            "option_repeat_penalty.txt\n",
            "option_keep.txt\n",
            "option_threads.txt\n",
            "option_grp_att.txt\n",
            "option_temp.txt\n",
            "option_top-p.txt\n",
            "option_nkvo.txt\n",
            "option_typical.txt\n",
            "option_tfs.txt\n",
            "option_min-p.txt\n",
            "option_top-k.txt\n",
            "option_repeat_last_n.txt\n",
            "option_split.txt\n"
          ]
        }
      ],
      "source": [
        "#Add combination of 2 options\n",
        "%%bash\n",
        "cd LLAMAcpp-performance/inputs/option\n",
        "python \"combine_command_2options.py\""
      ]
    },
    {
      "cell_type": "code",
      "execution_count": 12,
      "metadata": {
        "id": "xuWPULie_VJ4",
        "colab": {
          "base_uri": "https://localhost:8080/"
        },
        "outputId": "41bf6454-b44c-4b3e-c443-b80c83d71e14"
      },
      "outputs": [
        {
          "output_type": "stream",
          "name": "stdout",
          "text": [
            "['option_keep.txt', 'option_repeat_last_n.txt', 'option_split.txt', 'option_ctv_ctk.txt', 'option_tfs.txt', 'option_temp.txt', 'option_nkvo.txt', 'option_min-p.txt', 'option_repeat_penalty.txt', 'option_typical.txt', 'option_top-k.txt', 'option_grp_att.txt', 'option_top-p.txt', 'option_threads.txt', 'option_mirostat.txt']\n",
            "option_keep.txt\n",
            "option_repeat_last_n.txt\n",
            "option_split.txt\n",
            "option_ctv_ctk.txt\n",
            "option_tfs.txt\n",
            "option_temp.txt\n",
            "option_nkvo.txt\n",
            "option_min-p.txt\n",
            "option_repeat_penalty.txt\n",
            "option_typical.txt\n",
            "option_top-k.txt\n",
            "option_grp_att.txt\n",
            "option_top-p.txt\n",
            "option_threads.txt\n",
            "option_mirostat.txt\n"
          ]
        }
      ],
      "source": [
        "#Add combination of 3 options\n",
        "%%bash\n",
        "cd LLAMAcpp-performance/inputs/option\n",
        "python \"combine_command_3options.py\""
      ]
    },
    {
      "cell_type": "markdown",
      "metadata": {
        "id": "jEUPU6TViPGx"
      },
      "source": [
        "# Test combined options"
      ]
    },
    {
      "cell_type": "code",
      "execution_count": 13,
      "metadata": {
        "colab": {
          "base_uri": "https://localhost:8080/"
        },
        "id": "WHxJvwtMiWo8",
        "outputId": "b219b187-caa2-43a7-b718-96693f1c28bc"
      },
      "outputs": [
        {
          "output_type": "stream",
          "name": "stdout",
          "text": [
            "636\n"
          ]
        }
      ],
      "source": [
        "df = pd.read_csv(\"LLAMAcpp-performance/inputs/option/options.csv\", sep=\";\")\n",
        "print(len(df))"
      ]
    },
    {
      "cell_type": "code",
      "execution_count": null,
      "metadata": {
        "colab": {
          "base_uri": "https://localhost:8080/"
        },
        "collapsed": true,
        "id": "4E5IcyK9lwb9",
        "outputId": "30269ae8-8395-4227-bdca-b87c164b6837"
      },
      "outputs": [
        {
          "metadata": {
            "tags": null
          },
          "name": "stderr",
          "output_type": "stream",
          "text": [
            "\r  0%|          | 0/636 [00:00<?, ?it/s]"
          ]
        },
        {
          "metadata": {
            "tags": null
          },
          "name": "stdout",
          "output_type": "stream",
          "text": [
            "\n"
          ]
        },
        {
          "metadata": {
            "tags": null
          },
          "name": "stderr",
          "output_type": "stream",
          "text": [
            "\r  0%|          | 1/636 [07:04<74:49:53, 424.24s/it]"
          ]
        },
        {
          "metadata": {
            "tags": null
          },
          "name": "stdout",
          "output_type": "stream",
          "text": [
            "\n"
          ]
        },
        {
          "metadata": {
            "tags": null
          },
          "name": "stderr",
          "output_type": "stream",
          "text": [
            "\r  0%|          | 2/636 [13:51<72:54:38, 414.00s/it]"
          ]
        },
        {
          "metadata": {
            "tags": null
          },
          "name": "stdout",
          "output_type": "stream",
          "text": [
            "\n"
          ]
        },
        {
          "metadata": {
            "tags": null
          },
          "name": "stderr",
          "output_type": "stream",
          "text": [
            "\r  0%|          | 3/636 [20:40<72:25:20, 411.88s/it]"
          ]
        },
        {
          "metadata": {
            "tags": null
          },
          "name": "stdout",
          "output_type": "stream",
          "text": [
            "\n"
          ]
        },
        {
          "metadata": {
            "tags": null
          },
          "name": "stderr",
          "output_type": "stream",
          "text": [
            "\r  1%|          | 4/636 [27:22<71:39:20, 408.17s/it]"
          ]
        },
        {
          "metadata": {
            "tags": null
          },
          "name": "stdout",
          "output_type": "stream",
          "text": [
            "\n"
          ]
        },
        {
          "metadata": {
            "tags": null
          },
          "name": "stderr",
          "output_type": "stream",
          "text": [
            "\r  1%|          | 5/636 [34:11<71:35:33, 408.45s/it]"
          ]
        },
        {
          "metadata": {
            "tags": null
          },
          "name": "stdout",
          "output_type": "stream",
          "text": [
            "\n"
          ]
        },
        {
          "metadata": {
            "tags": null
          },
          "name": "stderr",
          "output_type": "stream",
          "text": [
            "\r  1%|          | 6/636 [41:00<71:27:44, 408.36s/it]"
          ]
        },
        {
          "metadata": {
            "tags": null
          },
          "name": "stdout",
          "output_type": "stream",
          "text": [
            "\n"
          ]
        },
        {
          "metadata": {
            "tags": null
          },
          "name": "stderr",
          "output_type": "stream",
          "text": [
            "\r  1%|          | 7/636 [48:17<73:00:37, 417.87s/it]"
          ]
        },
        {
          "metadata": {
            "tags": null
          },
          "name": "stdout",
          "output_type": "stream",
          "text": [
            "\n"
          ]
        },
        {
          "metadata": {
            "tags": null
          },
          "name": "stderr",
          "output_type": "stream",
          "text": [
            "\r  1%|▏         | 8/636 [55:02<72:12:15, 413.91s/it]"
          ]
        },
        {
          "metadata": {
            "tags": null
          },
          "name": "stdout",
          "output_type": "stream",
          "text": [
            "\n"
          ]
        },
        {
          "metadata": {
            "tags": null
          },
          "name": "stderr",
          "output_type": "stream",
          "text": [
            "\r  1%|▏         | 9/636 [1:01:48<71:37:50, 411.28s/it]"
          ]
        },
        {
          "metadata": {
            "tags": null
          },
          "name": "stdout",
          "output_type": "stream",
          "text": [
            "\n"
          ]
        },
        {
          "metadata": {
            "tags": null
          },
          "name": "stderr",
          "output_type": "stream",
          "text": [
            "\r  2%|▏         | 10/636 [1:08:35<71:18:59, 410.13s/it]"
          ]
        },
        {
          "metadata": {
            "tags": null
          },
          "name": "stdout",
          "output_type": "stream",
          "text": [
            "\n"
          ]
        },
        {
          "metadata": {
            "tags": null
          },
          "name": "stderr",
          "output_type": "stream",
          "text": [
            "\r  2%|▏         | 11/636 [1:15:41<72:00:31, 414.77s/it]"
          ]
        },
        {
          "metadata": {
            "tags": null
          },
          "name": "stdout",
          "output_type": "stream",
          "text": [
            "\n"
          ]
        },
        {
          "metadata": {
            "tags": null
          },
          "name": "stderr",
          "output_type": "stream",
          "text": [
            "\r  2%|▏         | 12/636 [1:22:25<71:19:55, 411.53s/it]"
          ]
        },
        {
          "metadata": {
            "tags": null
          },
          "name": "stdout",
          "output_type": "stream",
          "text": [
            "\n"
          ]
        },
        {
          "metadata": {
            "tags": null
          },
          "name": "stderr",
          "output_type": "stream",
          "text": [
            "\r  2%|▏         | 13/636 [1:29:13<71:01:54, 410.46s/it]"
          ]
        },
        {
          "metadata": {
            "tags": null
          },
          "name": "stdout",
          "output_type": "stream",
          "text": [
            "\n"
          ]
        },
        {
          "metadata": {
            "tags": null
          },
          "name": "stderr",
          "output_type": "stream",
          "text": [
            "\r  2%|▏         | 14/636 [1:35:59<70:41:12, 409.12s/it]"
          ]
        },
        {
          "metadata": {
            "tags": null
          },
          "name": "stdout",
          "output_type": "stream",
          "text": [
            "\n"
          ]
        },
        {
          "metadata": {
            "tags": null
          },
          "name": "stderr",
          "output_type": "stream",
          "text": [
            "\r  2%|▏         | 15/636 [1:42:46<70:28:03, 408.51s/it]"
          ]
        },
        {
          "metadata": {
            "tags": null
          },
          "name": "stdout",
          "output_type": "stream",
          "text": [
            "\n"
          ]
        },
        {
          "metadata": {
            "tags": null
          },
          "name": "stderr",
          "output_type": "stream",
          "text": [
            "\r  3%|▎         | 16/636 [1:49:37<70:30:05, 409.36s/it]"
          ]
        },
        {
          "metadata": {
            "tags": null
          },
          "name": "stdout",
          "output_type": "stream",
          "text": [
            "\n"
          ]
        },
        {
          "metadata": {
            "tags": null
          },
          "name": "stderr",
          "output_type": "stream",
          "text": [
            "\r  3%|▎         | 17/636 [1:56:19<69:59:43, 407.08s/it]"
          ]
        },
        {
          "metadata": {
            "tags": null
          },
          "name": "stdout",
          "output_type": "stream",
          "text": [
            "\n"
          ]
        },
        {
          "metadata": {
            "tags": null
          },
          "name": "stderr",
          "output_type": "stream",
          "text": [
            "\r  3%|▎         | 18/636 [2:03:29<71:02:14, 413.81s/it]"
          ]
        },
        {
          "metadata": {
            "tags": null
          },
          "name": "stdout",
          "output_type": "stream",
          "text": [
            "\n"
          ]
        },
        {
          "metadata": {
            "tags": null
          },
          "name": "stderr",
          "output_type": "stream",
          "text": [
            "\r  3%|▎         | 19/636 [2:10:15<70:32:53, 411.63s/it]"
          ]
        },
        {
          "metadata": {
            "tags": null
          },
          "name": "stdout",
          "output_type": "stream",
          "text": [
            "\n"
          ]
        },
        {
          "metadata": {
            "tags": null
          },
          "name": "stderr",
          "output_type": "stream",
          "text": [
            "\r  3%|▎         | 20/636 [2:16:52<69:39:21, 407.08s/it]"
          ]
        },
        {
          "metadata": {
            "tags": null
          },
          "name": "stdout",
          "output_type": "stream",
          "text": [
            "\n"
          ]
        },
        {
          "metadata": {
            "tags": null
          },
          "name": "stderr",
          "output_type": "stream",
          "text": [
            "\r  3%|▎         | 21/636 [2:23:47<69:56:49, 409.45s/it]"
          ]
        },
        {
          "metadata": {
            "tags": null
          },
          "name": "stdout",
          "output_type": "stream",
          "text": [
            "\n"
          ]
        },
        {
          "metadata": {
            "tags": null
          },
          "name": "stderr",
          "output_type": "stream",
          "text": [
            "\r  3%|▎         | 22/636 [2:30:35<69:47:14, 409.18s/it]"
          ]
        },
        {
          "metadata": {
            "tags": null
          },
          "name": "stdout",
          "output_type": "stream",
          "text": [
            "\n"
          ]
        },
        {
          "metadata": {
            "tags": null
          },
          "name": "stderr",
          "output_type": "stream",
          "text": [
            "\r  4%|▎         | 23/636 [2:37:35<70:13:01, 412.37s/it]"
          ]
        },
        {
          "metadata": {
            "tags": null
          },
          "name": "stdout",
          "output_type": "stream",
          "text": [
            "\n"
          ]
        },
        {
          "metadata": {
            "tags": null
          },
          "name": "stderr",
          "output_type": "stream",
          "text": [
            "\r  4%|▍         | 24/636 [2:44:18<69:39:11, 409.72s/it]"
          ]
        },
        {
          "metadata": {
            "tags": null
          },
          "name": "stdout",
          "output_type": "stream",
          "text": [
            "\n"
          ]
        },
        {
          "metadata": {
            "tags": null
          },
          "name": "stderr",
          "output_type": "stream",
          "text": [
            "\r  4%|▍         | 25/636 [2:51:01<69:11:48, 407.71s/it]"
          ]
        },
        {
          "metadata": {
            "tags": null
          },
          "name": "stdout",
          "output_type": "stream",
          "text": [
            "\n"
          ]
        },
        {
          "metadata": {
            "tags": null
          },
          "name": "stderr",
          "output_type": "stream",
          "text": [
            "\r  4%|▍         | 26/636 [2:58:14<70:21:36, 415.24s/it]"
          ]
        },
        {
          "metadata": {
            "tags": null
          },
          "name": "stdout",
          "output_type": "stream",
          "text": [
            "\n"
          ]
        },
        {
          "metadata": {
            "tags": null
          },
          "name": "stderr",
          "output_type": "stream",
          "text": [
            "\r  4%|▍         | 27/636 [3:04:39<68:42:15, 406.13s/it]"
          ]
        },
        {
          "metadata": {
            "tags": null
          },
          "name": "stdout",
          "output_type": "stream",
          "text": [
            "\n"
          ]
        },
        {
          "metadata": {
            "tags": null
          },
          "name": "stderr",
          "output_type": "stream",
          "text": [
            "\r  4%|▍         | 28/636 [3:11:28<68:43:38, 406.94s/it]"
          ]
        },
        {
          "metadata": {
            "tags": null
          },
          "name": "stdout",
          "output_type": "stream",
          "text": [
            "\n"
          ]
        },
        {
          "metadata": {
            "tags": null
          },
          "name": "stderr",
          "output_type": "stream",
          "text": [
            "\r  5%|▍         | 29/636 [3:17:33<66:30:07, 394.41s/it]"
          ]
        },
        {
          "metadata": {
            "tags": null
          },
          "name": "stdout",
          "output_type": "stream",
          "text": [
            "\n"
          ]
        },
        {
          "metadata": {
            "tags": null
          },
          "name": "stderr",
          "output_type": "stream",
          "text": [
            "\r  5%|▍         | 30/636 [3:24:18<66:54:55, 397.52s/it]"
          ]
        },
        {
          "metadata": {
            "tags": null
          },
          "name": "stdout",
          "output_type": "stream",
          "text": [
            "\n"
          ]
        },
        {
          "metadata": {
            "tags": null
          },
          "name": "stderr",
          "output_type": "stream",
          "text": [
            "\r  5%|▍         | 31/636 [3:30:17<64:51:39, 385.95s/it]"
          ]
        },
        {
          "metadata": {
            "tags": null
          },
          "name": "stdout",
          "output_type": "stream",
          "text": [
            "\n"
          ]
        },
        {
          "metadata": {
            "tags": null
          },
          "name": "stderr",
          "output_type": "stream",
          "text": [
            "\r  5%|▌         | 32/636 [3:37:09<66:03:29, 393.72s/it]"
          ]
        },
        {
          "metadata": {
            "tags": null
          },
          "name": "stdout",
          "output_type": "stream",
          "text": [
            "\n"
          ]
        },
        {
          "metadata": {
            "tags": null
          },
          "name": "stderr",
          "output_type": "stream",
          "text": [
            "\r  5%|▌         | 33/636 [3:43:11<64:21:03, 384.19s/it]"
          ]
        },
        {
          "metadata": {
            "tags": null
          },
          "name": "stdout",
          "output_type": "stream",
          "text": [
            "\n"
          ]
        },
        {
          "metadata": {
            "tags": null
          },
          "name": "stderr",
          "output_type": "stream",
          "text": [
            "\r  5%|▌         | 34/636 [3:49:59<65:28:14, 391.52s/it]"
          ]
        },
        {
          "metadata": {
            "tags": null
          },
          "name": "stdout",
          "output_type": "stream",
          "text": [
            "\n"
          ]
        },
        {
          "metadata": {
            "tags": null
          },
          "name": "stderr",
          "output_type": "stream",
          "text": [
            "\r  6%|▌         | 35/636 [3:56:51<66:22:22, 397.58s/it]"
          ]
        },
        {
          "metadata": {
            "tags": null
          },
          "name": "stdout",
          "output_type": "stream",
          "text": [
            "\n"
          ]
        },
        {
          "metadata": {
            "tags": null
          },
          "name": "stderr",
          "output_type": "stream",
          "text": [
            "\r  6%|▌         | 36/636 [4:03:37<66:40:48, 400.08s/it]"
          ]
        },
        {
          "metadata": {
            "tags": null
          },
          "name": "stdout",
          "output_type": "stream",
          "text": [
            "\n"
          ]
        },
        {
          "metadata": {
            "tags": null
          },
          "name": "stderr",
          "output_type": "stream",
          "text": [
            "\r  6%|▌         | 37/636 [4:10:23<66:51:14, 401.79s/it]"
          ]
        },
        {
          "metadata": {
            "tags": null
          },
          "name": "stdout",
          "output_type": "stream",
          "text": [
            "\n"
          ]
        },
        {
          "metadata": {
            "tags": null
          },
          "name": "stderr",
          "output_type": "stream",
          "text": [
            "\r  6%|▌         | 38/636 [4:17:13<67:08:18, 404.18s/it]"
          ]
        },
        {
          "metadata": {
            "tags": null
          },
          "name": "stdout",
          "output_type": "stream",
          "text": [
            "\n"
          ]
        },
        {
          "metadata": {
            "tags": null
          },
          "name": "stderr",
          "output_type": "stream",
          "text": [
            "\r  6%|▌         | 39/636 [4:23:57<67:03:42, 404.39s/it]"
          ]
        },
        {
          "metadata": {
            "tags": null
          },
          "name": "stdout",
          "output_type": "stream",
          "text": [
            "\n"
          ]
        },
        {
          "metadata": {
            "tags": null
          },
          "name": "stderr",
          "output_type": "stream",
          "text": [
            "\r  6%|▋         | 40/636 [4:30:52<67:27:20, 407.45s/it]"
          ]
        },
        {
          "metadata": {
            "tags": null
          },
          "name": "stdout",
          "output_type": "stream",
          "text": [
            "\n"
          ]
        },
        {
          "metadata": {
            "tags": null
          },
          "name": "stderr",
          "output_type": "stream",
          "text": [
            "\r  6%|▋         | 41/636 [4:37:33<66:59:57, 405.37s/it]"
          ]
        },
        {
          "metadata": {
            "tags": null
          },
          "name": "stdout",
          "output_type": "stream",
          "text": [
            "\n"
          ]
        },
        {
          "output_type": "stream",
          "name": "stderr",
          "text": [
            "\r  7%|▋         | 42/636 [4:44:36<67:46:23, 410.75s/it]"
          ]
        },
        {
          "output_type": "stream",
          "name": "stdout",
          "text": [
            "\n"
          ]
        },
        {
          "output_type": "stream",
          "name": "stderr",
          "text": [
            "\r  7%|▋         | 43/636 [4:51:27<67:40:33, 410.85s/it]"
          ]
        },
        {
          "output_type": "stream",
          "name": "stdout",
          "text": [
            "\n"
          ]
        },
        {
          "output_type": "stream",
          "name": "stderr",
          "text": [
            "\r  7%|▋         | 44/636 [4:58:04<66:53:21, 406.76s/it]"
          ]
        },
        {
          "output_type": "stream",
          "name": "stdout",
          "text": [
            "\n"
          ]
        }
      ],
      "source": [
        "t = len(df)\n",
        "for i in tqdm(range(t)):\n",
        "  model_gpt2_llama2_mistral7B = \"mistral7B\"\n",
        "  param = df.iloc[i,0] + \" -n 1 -ngl 1 \"\n",
        "  option_name = df.iloc[i,1]\n",
        "  #print(param, option_name)\n",
        "  command = 'cd LLAMAcpp-performance/\\n./src/test_input_command.sh \"'+str(model_gpt2_llama2_mistral7B)+'\" \"'+str(param)+'\" \"'+str(option_name)+'\"'\n",
        "  # Exécuter la commande Bash\n",
        "  #print(\"Commande Bash générée :\", command, \"\\n\\n\")\n",
        "\n",
        "  # Utiliser une cellule de type bash pour exécuter la commande\n",
        "  from IPython.display import display, Markdown\n",
        "\n",
        "  #display(Markdown(f\"```bash\\n{command}\\n```\"))\n",
        "\n",
        "  # Exécution de la commande\n",
        "  !{command}\n",
        "\n"
      ]
    },
    {
      "cell_type": "code",
      "execution_count": 18,
      "metadata": {
        "colab": {
          "base_uri": "https://localhost:8080/",
          "height": 36
        },
        "id": "MrizIoyWAYx1",
        "outputId": "17a1fd47-99b1-4940-a50b-c067acc000ae"
      },
      "outputs": [
        {
          "output_type": "execute_result",
          "data": {
            "text/plain": [
              "'/content/drive/My Drive/NeuralNetwork.zip'"
            ],
            "application/vnd.google.colaboratory.intrinsic+json": {
              "type": "string"
            }
          },
          "metadata": {},
          "execution_count": 18
        }
      ],
      "source": [
        "# Chemin du dossier que vous souhaitez enregistrer\n",
        "dossier_source = '/content/LLAMAcpp-performance/aggregations/NeuralNetwork'\n",
        "\n",
        "# Chemin où vous souhaitez enregistrer le fichier zip dans Google Drive\n",
        "chemin_zip = '/content/drive/My Drive/NeuralNetwork.zip'\n",
        "\n",
        "# Créez un fichier zip du dossier\n",
        "shutil.make_archive(chemin_zip.split('.')[0], 'zip', dossier_source)"
      ]
    },
    {
      "cell_type": "code",
      "execution_count": 19,
      "metadata": {
        "colab": {
          "base_uri": "https://localhost:8080/",
          "height": 36
        },
        "id": "pcQ1yW_GOQjz",
        "outputId": "3b83425c-9036-4a42-a090-218e9db0d36f"
      },
      "outputs": [
        {
          "output_type": "execute_result",
          "data": {
            "text/plain": [
              "'/content/drive/My Drive/outputs.zip'"
            ],
            "application/vnd.google.colaboratory.intrinsic+json": {
              "type": "string"
            }
          },
          "metadata": {},
          "execution_count": 19
        }
      ],
      "source": [
        "# Chemin du dossier que vous souhaitez enregistrer\n",
        "dossier_source = '/content/LLAMAcpp-performance/outputs'\n",
        "\n",
        "# Chemin où vous souhaitez enregistrer le fichier zip dans Google Drive\n",
        "chemin_zip = '/content/drive/My Drive/outputs.zip'\n",
        "\n",
        "# Créez un fichier zip du dossier\n",
        "shutil.make_archive(chemin_zip.split('.')[0], 'zip', dossier_source)"
      ]
    },
    {
      "cell_type": "code",
      "execution_count": 5,
      "metadata": {
        "id": "Jea1ZAsZE4Jm",
        "colab": {
          "base_uri": "https://localhost:8080/"
        },
        "outputId": "42006ff9-3f05-4230-d0bd-00719e540489"
      },
      "outputs": [
        {
          "output_type": "stream",
          "name": "stdout",
          "text": [
            "rm: cannot remove 'LLAMAcpp-performance/outputs/': No such file or directory\n"
          ]
        }
      ],
      "source": [
        "!rm -r LLAMAcpp-performance/outputs/"
      ]
    },
    {
      "cell_type": "code",
      "execution_count": null,
      "metadata": {
        "id": "AtIDdDiqVm_6"
      },
      "outputs": [],
      "source": []
    }
  ],
  "metadata": {
    "colab": {
      "provenance": [],
      "collapsed_sections": [
        "pHRVo9myPl-K",
        "-AifsG-4QF_l",
        "HwWMd4rXhhbF"
      ]
    },
    "kernelspec": {
      "display_name": "Python 3",
      "name": "python3"
    },
    "language_info": {
      "name": "python"
    }
  },
  "nbformat": 4,
  "nbformat_minor": 0
}